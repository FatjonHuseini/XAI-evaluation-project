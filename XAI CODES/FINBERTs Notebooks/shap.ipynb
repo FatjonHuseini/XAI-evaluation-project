{
 "cells": [
  {
   "cell_type": "code",
   "execution_count": 2,
   "outputs": [
    {
     "name": "stdout",
     "output_type": "stream",
     "text": [
      "Looking in indexes: https://pypi.org/simple, https://pypi.ngc.nvidia.com\n",
      "Requirement already satisfied: shap in c:\\users\\fatjo\\desktop\\finbert\\venv\\lib\\site-packages (0.40.0)\n",
      "Requirement already satisfied: scikit-learn in c:\\users\\fatjo\\desktop\\finbert\\venv\\lib\\site-packages (from shap) (1.0.2)\n",
      "Requirement already satisfied: cloudpickle in c:\\users\\fatjo\\desktop\\finbert\\venv\\lib\\site-packages (from shap) (2.1.0)\n",
      "Requirement already satisfied: slicer==0.0.7 in c:\\users\\fatjo\\desktop\\finbert\\venv\\lib\\site-packages (from shap) (0.0.7)\n",
      "Requirement already satisfied: numba in c:\\users\\fatjo\\desktop\\finbert\\venv\\lib\\site-packages (from shap) (0.55.2)\n",
      "Requirement already satisfied: numpy in c:\\users\\fatjo\\desktop\\finbert\\venv\\lib\\site-packages (from shap) (1.21.6)\n",
      "Requirement already satisfied: packaging>20.9 in c:\\users\\fatjo\\desktop\\finbert\\venv\\lib\\site-packages (from shap) (21.3)\n",
      "Requirement already satisfied: tqdm>4.25.0 in c:\\users\\fatjo\\desktop\\finbert\\venv\\lib\\site-packages (from shap) (4.64.0)\n",
      "Requirement already satisfied: scipy in c:\\users\\fatjo\\desktop\\finbert\\venv\\lib\\site-packages (from shap) (1.7.3)\n",
      "Requirement already satisfied: pandas in c:\\users\\fatjo\\desktop\\finbert\\venv\\lib\\site-packages (from shap) (0.24.2)\n",
      "Requirement already satisfied: pyparsing!=3.0.5,>=2.0.2 in c:\\users\\fatjo\\desktop\\finbert\\venv\\lib\\site-packages (from packaging>20.9->shap) (3.0.9)\n",
      "Requirement already satisfied: colorama in c:\\users\\fatjo\\desktop\\finbert\\venv\\lib\\site-packages (from tqdm>4.25.0->shap) (0.4.4)\n",
      "Requirement already satisfied: setuptools in c:\\users\\fatjo\\desktop\\finbert\\venv\\lib\\site-packages (from numba->shap) (62.3.2)\n",
      "Requirement already satisfied: llvmlite<0.39,>=0.38.0rc1 in c:\\users\\fatjo\\desktop\\finbert\\venv\\lib\\site-packages (from numba->shap) (0.38.1)\n",
      "Requirement already satisfied: pytz>=2011k in c:\\users\\fatjo\\desktop\\finbert\\venv\\lib\\site-packages (from pandas->shap) (2022.1)\n",
      "Requirement already satisfied: python-dateutil>=2.5.0 in c:\\users\\fatjo\\desktop\\finbert\\venv\\lib\\site-packages (from pandas->shap) (2.8.2)\n",
      "Requirement already satisfied: threadpoolctl>=2.0.0 in c:\\users\\fatjo\\desktop\\finbert\\venv\\lib\\site-packages (from scikit-learn->shap) (3.1.0)\n",
      "Requirement already satisfied: joblib>=0.11 in c:\\users\\fatjo\\desktop\\finbert\\venv\\lib\\site-packages (from scikit-learn->shap) (0.13.2)\n",
      "Requirement already satisfied: six>=1.5 in c:\\users\\fatjo\\desktop\\finbert\\venv\\lib\\site-packages (from python-dateutil>=2.5.0->pandas->shap) (1.16.0)\n",
      "Looking in indexes: https://pypi.org/simple, https://pypi.ngc.nvidia.com\n",
      "Requirement already satisfied: transformers in c:\\users\\fatjo\\desktop\\finbert\\venv\\lib\\site-packages (4.19.2)\n",
      "Requirement already satisfied: numpy>=1.17 in c:\\users\\fatjo\\desktop\\finbert\\venv\\lib\\site-packages (from transformers) (1.21.6)\n",
      "Requirement already satisfied: requests in c:\\users\\fatjo\\desktop\\finbert\\venv\\lib\\site-packages (from transformers) (2.27.1)\n",
      "Requirement already satisfied: tqdm>=4.27 in c:\\users\\fatjo\\desktop\\finbert\\venv\\lib\\site-packages (from transformers) (4.64.0)\n",
      "Requirement already satisfied: huggingface-hub<1.0,>=0.1.0 in c:\\users\\fatjo\\desktop\\finbert\\venv\\lib\\site-packages (from transformers) (0.7.0)\n",
      "Requirement already satisfied: filelock in c:\\users\\fatjo\\desktop\\finbert\\venv\\lib\\site-packages (from transformers) (3.7.1)\n",
      "Requirement already satisfied: importlib-metadata in c:\\users\\fatjo\\desktop\\finbert\\venv\\lib\\site-packages (from transformers) (4.11.4)\n",
      "Requirement already satisfied: pyyaml>=5.1 in c:\\users\\fatjo\\desktop\\finbert\\venv\\lib\\site-packages (from transformers) (6.0)\n",
      "Requirement already satisfied: packaging>=20.0 in c:\\users\\fatjo\\desktop\\finbert\\venv\\lib\\site-packages (from transformers) (21.3)\n",
      "Requirement already satisfied: regex!=2019.12.17 in c:\\users\\fatjo\\desktop\\finbert\\venv\\lib\\site-packages (from transformers) (2022.4.24)\n",
      "Requirement already satisfied: tokenizers!=0.11.3,<0.13,>=0.11.1 in c:\\users\\fatjo\\desktop\\finbert\\venv\\lib\\site-packages (from transformers) (0.12.1)\n",
      "Requirement already satisfied: typing-extensions>=3.7.4.3 in c:\\users\\fatjo\\desktop\\finbert\\venv\\lib\\site-packages (from huggingface-hub<1.0,>=0.1.0->transformers) (4.2.0)\n",
      "Requirement already satisfied: pyparsing!=3.0.5,>=2.0.2 in c:\\users\\fatjo\\desktop\\finbert\\venv\\lib\\site-packages (from packaging>=20.0->transformers) (3.0.9)\n",
      "Requirement already satisfied: colorama in c:\\users\\fatjo\\desktop\\finbert\\venv\\lib\\site-packages (from tqdm>=4.27->transformers) (0.4.4)\n",
      "Requirement already satisfied: zipp>=0.5 in c:\\users\\fatjo\\desktop\\finbert\\venv\\lib\\site-packages (from importlib-metadata->transformers) (3.8.0)\n",
      "Requirement already satisfied: charset-normalizer~=2.0.0 in c:\\users\\fatjo\\desktop\\finbert\\venv\\lib\\site-packages (from requests->transformers) (2.0.12)\n",
      "Requirement already satisfied: urllib3<1.27,>=1.21.1 in c:\\users\\fatjo\\desktop\\finbert\\venv\\lib\\site-packages (from requests->transformers) (1.26.9)\n",
      "Requirement already satisfied: certifi>=2017.4.17 in c:\\users\\fatjo\\desktop\\finbert\\venv\\lib\\site-packages (from requests->transformers) (2022.5.18.1)\n",
      "Requirement already satisfied: idna<4,>=2.5 in c:\\users\\fatjo\\desktop\\finbert\\venv\\lib\\site-packages (from requests->transformers) (3.3)\n"
     ]
    }
   ],
   "source": [
    "!pip install shap\n",
    "!pip install transformers"
   ],
   "metadata": {
    "collapsed": false,
    "pycharm": {
     "name": "#%%\n"
    }
   }
  },
  {
   "cell_type": "code",
   "execution_count": 3,
   "outputs": [
    {
     "name": "stdout",
     "output_type": "stream",
     "text": [
      "Looking in indexes: https://pypi.org/simple, https://pypi.ngc.nvidia.com\n",
      "Requirement already satisfied: nlp in c:\\users\\fatjo\\desktop\\finbert\\venv\\lib\\site-packages (0.4.0)\n",
      "Requirement already satisfied: numpy in c:\\users\\fatjo\\desktop\\finbert\\venv\\lib\\site-packages (from nlp) (1.21.6)\n",
      "Requirement already satisfied: tqdm>=4.27 in c:\\users\\fatjo\\desktop\\finbert\\venv\\lib\\site-packages (from nlp) (4.64.0)\n",
      "Requirement already satisfied: filelock in c:\\users\\fatjo\\desktop\\finbert\\venv\\lib\\site-packages (from nlp) (3.7.1)\n",
      "Requirement already satisfied: pyarrow>=0.16.0 in c:\\users\\fatjo\\desktop\\finbert\\venv\\lib\\site-packages (from nlp) (8.0.0)\n",
      "Requirement already satisfied: pandas in c:\\users\\fatjo\\desktop\\finbert\\venv\\lib\\site-packages (from nlp) (0.24.2)\n",
      "Requirement already satisfied: requests>=2.19.0 in c:\\users\\fatjo\\desktop\\finbert\\venv\\lib\\site-packages (from nlp) (2.27.1)\n",
      "Requirement already satisfied: xxhash in c:\\users\\fatjo\\desktop\\finbert\\venv\\lib\\site-packages (from nlp) (3.0.0)\n",
      "Requirement already satisfied: dill in c:\\users\\fatjo\\desktop\\finbert\\venv\\lib\\site-packages (from nlp) (0.3.4)\n",
      "Requirement already satisfied: charset-normalizer~=2.0.0 in c:\\users\\fatjo\\desktop\\finbert\\venv\\lib\\site-packages (from requests>=2.19.0->nlp) (2.0.12)\n",
      "Requirement already satisfied: idna<4,>=2.5 in c:\\users\\fatjo\\desktop\\finbert\\venv\\lib\\site-packages (from requests>=2.19.0->nlp) (3.3)\n",
      "Requirement already satisfied: urllib3<1.27,>=1.21.1 in c:\\users\\fatjo\\desktop\\finbert\\venv\\lib\\site-packages (from requests>=2.19.0->nlp) (1.26.9)\n",
      "Requirement already satisfied: certifi>=2017.4.17 in c:\\users\\fatjo\\desktop\\finbert\\venv\\lib\\site-packages (from requests>=2.19.0->nlp) (2022.5.18.1)\n",
      "Requirement already satisfied: colorama in c:\\users\\fatjo\\desktop\\finbert\\venv\\lib\\site-packages (from tqdm>=4.27->nlp) (0.4.4)\n",
      "Requirement already satisfied: python-dateutil>=2.5.0 in c:\\users\\fatjo\\desktop\\finbert\\venv\\lib\\site-packages (from pandas->nlp) (2.8.2)\n",
      "Requirement already satisfied: pytz>=2011k in c:\\users\\fatjo\\desktop\\finbert\\venv\\lib\\site-packages (from pandas->nlp) (2022.1)\n",
      "Requirement already satisfied: six>=1.5 in c:\\users\\fatjo\\desktop\\finbert\\venv\\lib\\site-packages (from python-dateutil>=2.5.0->pandas->nlp) (1.16.0)\n"
     ]
    }
   ],
   "source": [
    "!pip install nlp"
   ],
   "metadata": {
    "collapsed": false,
    "pycharm": {
     "name": "#%%\n"
    }
   }
  },
  {
   "cell_type": "code",
   "execution_count": 4,
   "outputs": [],
   "source": [
    "import shap\n",
    "import transformers\n",
    "import nlp\n",
    "import torch\n",
    "from pathlib import Path\n",
    "import numpy as np\n",
    "import scipy as sp\n",
    "\n",
    "# project_dir = Path.cwd()\n",
    "# print(project_dir)\n",
    "\n",
    "from transformers import AutoModelForSequenceClassification\n",
    "# load a BERT sentiment analysis model\n",
    "tokenizer = transformers.AutoTokenizer.from_pretrained(\"ProsusAI/finbert\")\n",
    "model = AutoModelForSequenceClassification.from_pretrained(\"ProsusAI/finbert\")\n",
    "# cl_path = '/content/drive/MyDrive/finBERT/models/classifier_model/finbert-sentiment'\n",
    "# model = AutoModelForSequenceClassification.from_pretrained(cl_path, cache_dir=None, num_labels=3).cuda()\n",
    "\n",
    "# define a prediction function\n",
    "def f(x):\n",
    "    tv = torch.tensor([tokenizer.encode(v, padding='max_length', max_length=500, truncation=True) for v in x])\n",
    "    outputs = model(tv)[0].detach().cpu().numpy()\n",
    "    scores = (np.exp(outputs).T / np.exp(outputs).sum(-1)).T\n",
    "    val = sp.special.logit(scores[:,1]) # use one vs rest logit units\n",
    "    return val\n",
    "\n",
    "# build an explainer using a token masker"
   ],
   "metadata": {
    "collapsed": false,
    "pycharm": {
     "name": "#%%\n"
    }
   }
  },
  {
   "cell_type": "code",
   "execution_count": 7,
   "outputs": [
    {
     "name": "stdout",
     "output_type": "stream",
     "text": [
      "Looking in indexes: https://pypi.org/simple, https://pypi.ngc.nvidia.com\n",
      "Requirement already satisfied: datasets in c:\\users\\fatjo\\desktop\\finbert\\venv\\lib\\site-packages (2.2.2)\n",
      "Requirement already satisfied: pandas in c:\\users\\fatjo\\desktop\\finbert\\venv\\lib\\site-packages (from datasets) (0.24.2)\n",
      "Requirement already satisfied: multiprocess in c:\\users\\fatjo\\desktop\\finbert\\venv\\lib\\site-packages (from datasets) (0.70.12.2)\n",
      "Requirement already satisfied: requests>=2.19.0 in c:\\users\\fatjo\\desktop\\finbert\\venv\\lib\\site-packages (from datasets) (2.27.1)\n",
      "Requirement already satisfied: aiohttp in c:\\users\\fatjo\\desktop\\finbert\\venv\\lib\\site-packages (from datasets) (3.8.1)\n",
      "Requirement already satisfied: xxhash in c:\\users\\fatjo\\desktop\\finbert\\venv\\lib\\site-packages (from datasets) (3.0.0)\n",
      "Requirement already satisfied: dill<0.3.5 in c:\\users\\fatjo\\desktop\\finbert\\venv\\lib\\site-packages (from datasets) (0.3.4)\n",
      "Requirement already satisfied: pyarrow>=6.0.0 in c:\\users\\fatjo\\desktop\\finbert\\venv\\lib\\site-packages (from datasets) (8.0.0)\n",
      "Requirement already satisfied: tqdm>=4.62.1 in c:\\users\\fatjo\\desktop\\finbert\\venv\\lib\\site-packages (from datasets) (4.64.0)\n",
      "Requirement already satisfied: importlib-metadata in c:\\users\\fatjo\\desktop\\finbert\\venv\\lib\\site-packages (from datasets) (4.11.4)\n",
      "Requirement already satisfied: responses<0.19 in c:\\users\\fatjo\\desktop\\finbert\\venv\\lib\\site-packages (from datasets) (0.18.0)\n",
      "Requirement already satisfied: huggingface-hub<1.0.0,>=0.1.0 in c:\\users\\fatjo\\desktop\\finbert\\venv\\lib\\site-packages (from datasets) (0.7.0)\n",
      "Requirement already satisfied: fsspec[http]>=2021.05.0 in c:\\users\\fatjo\\desktop\\finbert\\venv\\lib\\site-packages (from datasets) (2022.5.0)\n",
      "Requirement already satisfied: packaging in c:\\users\\fatjo\\desktop\\finbert\\venv\\lib\\site-packages (from datasets) (21.3)\n",
      "Requirement already satisfied: numpy>=1.17 in c:\\users\\fatjo\\desktop\\finbert\\venv\\lib\\site-packages (from datasets) (1.21.6)\n",
      "Requirement already satisfied: pyyaml>=5.1 in c:\\users\\fatjo\\desktop\\finbert\\venv\\lib\\site-packages (from huggingface-hub<1.0.0,>=0.1.0->datasets) (6.0)\n",
      "Requirement already satisfied: filelock in c:\\users\\fatjo\\desktop\\finbert\\venv\\lib\\site-packages (from huggingface-hub<1.0.0,>=0.1.0->datasets) (3.7.1)\n",
      "Requirement already satisfied: typing-extensions>=3.7.4.3 in c:\\users\\fatjo\\desktop\\finbert\\venv\\lib\\site-packages (from huggingface-hub<1.0.0,>=0.1.0->datasets) (4.2.0)\n",
      "Requirement already satisfied: pyparsing!=3.0.5,>=2.0.2 in c:\\users\\fatjo\\desktop\\finbert\\venv\\lib\\site-packages (from packaging->datasets) (3.0.9)\n",
      "Requirement already satisfied: idna<4,>=2.5 in c:\\users\\fatjo\\desktop\\finbert\\venv\\lib\\site-packages (from requests>=2.19.0->datasets) (3.3)\n",
      "Requirement already satisfied: urllib3<1.27,>=1.21.1 in c:\\users\\fatjo\\desktop\\finbert\\venv\\lib\\site-packages (from requests>=2.19.0->datasets) (1.26.9)\n",
      "Requirement already satisfied: charset-normalizer~=2.0.0 in c:\\users\\fatjo\\desktop\\finbert\\venv\\lib\\site-packages (from requests>=2.19.0->datasets) (2.0.12)\n",
      "Requirement already satisfied: certifi>=2017.4.17 in c:\\users\\fatjo\\desktop\\finbert\\venv\\lib\\site-packages (from requests>=2.19.0->datasets) (2022.5.18.1)\n",
      "Requirement already satisfied: colorama in c:\\users\\fatjo\\desktop\\finbert\\venv\\lib\\site-packages (from tqdm>=4.62.1->datasets) (0.4.4)\n",
      "Requirement already satisfied: asynctest==0.13.0 in c:\\users\\fatjo\\desktop\\finbert\\venv\\lib\\site-packages (from aiohttp->datasets) (0.13.0)\n",
      "Requirement already satisfied: multidict<7.0,>=4.5 in c:\\users\\fatjo\\desktop\\finbert\\venv\\lib\\site-packages (from aiohttp->datasets) (6.0.2)\n",
      "Requirement already satisfied: frozenlist>=1.1.1 in c:\\users\\fatjo\\desktop\\finbert\\venv\\lib\\site-packages (from aiohttp->datasets) (1.3.0)\n",
      "Requirement already satisfied: aiosignal>=1.1.2 in c:\\users\\fatjo\\desktop\\finbert\\venv\\lib\\site-packages (from aiohttp->datasets) (1.2.0)\n",
      "Requirement already satisfied: attrs>=17.3.0 in c:\\users\\fatjo\\desktop\\finbert\\venv\\lib\\site-packages (from aiohttp->datasets) (21.4.0)\n",
      "Requirement already satisfied: async-timeout<5.0,>=4.0.0a3 in c:\\users\\fatjo\\desktop\\finbert\\venv\\lib\\site-packages (from aiohttp->datasets) (4.0.2)\n",
      "Requirement already satisfied: yarl<2.0,>=1.0 in c:\\users\\fatjo\\desktop\\finbert\\venv\\lib\\site-packages (from aiohttp->datasets) (1.7.2)\n",
      "Requirement already satisfied: zipp>=0.5 in c:\\users\\fatjo\\desktop\\finbert\\venv\\lib\\site-packages (from importlib-metadata->datasets) (3.8.0)\n",
      "Requirement already satisfied: pytz>=2011k in c:\\users\\fatjo\\desktop\\finbert\\venv\\lib\\site-packages (from pandas->datasets) (2022.1)\n",
      "Requirement already satisfied: python-dateutil>=2.5.0 in c:\\users\\fatjo\\desktop\\finbert\\venv\\lib\\site-packages (from pandas->datasets) (2.8.2)\n",
      "Requirement already satisfied: six>=1.5 in c:\\users\\fatjo\\desktop\\finbert\\venv\\lib\\site-packages (from python-dateutil>=2.5.0->pandas->datasets) (1.16.0)\n"
     ]
    }
   ],
   "source": [
    "!pip install datasets"
   ],
   "metadata": {
    "collapsed": false,
    "pycharm": {
     "name": "#%%\n"
    }
   }
  },
  {
   "cell_type": "code",
   "execution_count": 8,
   "outputs": [
    {
     "data": {
      "text/plain": "                                         Description  Semantic\n0  Finnish Talentum reports its operating profit ...  positive\n1  Lifetree was founded in 2000 , and its revenue...  positive\n2  Nokia also noted the average selling price of ...  positive\n3  Calls to the switchboard and directory service...  negative\n4  Earnings per share EPS are seen at EUR 0.56 , ...  positive\n5  The growth of net sales has continued favourab...  positive\n6  The company slipped to an operating loss of EU...  negative\n7  The company 's profit before taxes fell to EUR...  negative\n8  Unit costs for flight operations fell by 6.4 p...  negative\n9  Tiimari , the Finnish retailer , reported to h...  positive",
      "text/html": "<div>\n<style scoped>\n    .dataframe tbody tr th:only-of-type {\n        vertical-align: middle;\n    }\n\n    .dataframe tbody tr th {\n        vertical-align: top;\n    }\n\n    .dataframe thead th {\n        text-align: right;\n    }\n</style>\n<table border=\"1\" class=\"dataframe\">\n  <thead>\n    <tr style=\"text-align: right;\">\n      <th></th>\n      <th>Description</th>\n      <th>Semantic</th>\n    </tr>\n  </thead>\n  <tbody>\n    <tr>\n      <th>0</th>\n      <td>Finnish Talentum reports its operating profit ...</td>\n      <td>positive</td>\n    </tr>\n    <tr>\n      <th>1</th>\n      <td>Lifetree was founded in 2000 , and its revenue...</td>\n      <td>positive</td>\n    </tr>\n    <tr>\n      <th>2</th>\n      <td>Nokia also noted the average selling price of ...</td>\n      <td>positive</td>\n    </tr>\n    <tr>\n      <th>3</th>\n      <td>Calls to the switchboard and directory service...</td>\n      <td>negative</td>\n    </tr>\n    <tr>\n      <th>4</th>\n      <td>Earnings per share EPS are seen at EUR 0.56 , ...</td>\n      <td>positive</td>\n    </tr>\n    <tr>\n      <th>5</th>\n      <td>The growth of net sales has continued favourab...</td>\n      <td>positive</td>\n    </tr>\n    <tr>\n      <th>6</th>\n      <td>The company slipped to an operating loss of EU...</td>\n      <td>negative</td>\n    </tr>\n    <tr>\n      <th>7</th>\n      <td>The company 's profit before taxes fell to EUR...</td>\n      <td>negative</td>\n    </tr>\n    <tr>\n      <th>8</th>\n      <td>Unit costs for flight operations fell by 6.4 p...</td>\n      <td>negative</td>\n    </tr>\n    <tr>\n      <th>9</th>\n      <td>Tiimari , the Finnish retailer , reported to h...</td>\n      <td>positive</td>\n    </tr>\n  </tbody>\n</table>\n</div>"
     },
     "execution_count": 8,
     "metadata": {},
     "output_type": "execute_result"
    }
   ],
   "source": [
    "import pyarrow as pa\n",
    "import pyarrow.dataset as ds\n",
    "import pandas as pd\n",
    "from datasets import Dataset\n",
    "\n",
    "df=pd.read_csv(\"C:\\\\Users\\\\fatjo\\\\Desktop\\\\dataSpecial.csv\", encoding=\"latin\", header=[0])\n",
    "df"
   ],
   "metadata": {
    "collapsed": false,
    "pycharm": {
     "name": "#%%\n"
    }
   }
  },
  {
   "cell_type": "code",
   "execution_count": 9,
   "outputs": [
    {
     "name": "stdout",
     "output_type": "stream",
     "text": [
      "<class 'pandas.core.series.Series'>\n",
      "<class 'pandas.core.frame.DataFrame'>\n"
     ]
    }
   ],
   "source": [
    "desc=df['Description']\n",
    "print(type(desc))\n",
    "\n",
    "df2 = desc.to_frame(name=\"Desc\")\n",
    "print(type(df2))"
   ],
   "metadata": {
    "collapsed": false,
    "pycharm": {
     "name": "#%%\n"
    }
   }
  },
  {
   "cell_type": "code",
   "execution_count": 10,
   "outputs": [],
   "source": [
    "dataset = ds.dataset(pa.Table.from_pandas(df2).to_batches())\n",
    "\n",
    "### convert to Huggingface dataset\n",
    "data = Dataset(pa.Table.from_pandas(df2))"
   ],
   "metadata": {
    "collapsed": false,
    "pycharm": {
     "name": "#%%\n"
    }
   }
  },
  {
   "cell_type": "code",
   "execution_count": 11,
   "outputs": [
    {
     "data": {
      "text/plain": "  0%|          | 0/248 [00:00<?, ?it/s]",
      "application/vnd.jupyter.widget-view+json": {
       "version_major": 2,
       "version_minor": 0,
       "model_id": "9fc97a238a8044248f65d2637c31d272"
      }
     },
     "metadata": {},
     "output_type": "display_data"
    },
    {
     "name": "stderr",
     "output_type": "stream",
     "text": [
      "Partition explainer:  10%|█         | 1/10 [00:00<?, ?it/s]"
     ]
    },
    {
     "data": {
      "text/plain": "  0%|          | 0/248 [00:00<?, ?it/s]",
      "application/vnd.jupyter.widget-view+json": {
       "version_major": 2,
       "version_minor": 0,
       "model_id": "d6ca1dbbfbc740d481d2413c462189b0"
      }
     },
     "metadata": {},
     "output_type": "display_data"
    },
    {
     "name": "stderr",
     "output_type": "stream",
     "text": [
      "Partition explainer:  30%|███       | 3/10 [01:43<02:23, 20.52s/it]"
     ]
    },
    {
     "data": {
      "text/plain": "  0%|          | 0/248 [00:00<?, ?it/s]",
      "application/vnd.jupyter.widget-view+json": {
       "version_major": 2,
       "version_minor": 0,
       "model_id": "f6a3c431d59446cd880431254dc04bb2"
      }
     },
     "metadata": {},
     "output_type": "display_data"
    },
    {
     "name": "stderr",
     "output_type": "stream",
     "text": [
      "Partition explainer:  40%|████      | 4/10 [02:41<03:36, 36.05s/it]"
     ]
    },
    {
     "data": {
      "text/plain": "  0%|          | 0/248 [00:00<?, ?it/s]",
      "application/vnd.jupyter.widget-view+json": {
       "version_major": 2,
       "version_minor": 0,
       "model_id": "b9d5de049d07416fbadb86fab3b7006b"
      }
     },
     "metadata": {},
     "output_type": "display_data"
    },
    {
     "name": "stderr",
     "output_type": "stream",
     "text": [
      "Partition explainer:  50%|█████     | 5/10 [03:41<03:44, 44.99s/it]"
     ]
    },
    {
     "data": {
      "text/plain": "  0%|          | 0/248 [00:00<?, ?it/s]",
      "application/vnd.jupyter.widget-view+json": {
       "version_major": 2,
       "version_minor": 0,
       "model_id": "b940ece4b90f40acb6ecf7a71fcb5f8d"
      }
     },
     "metadata": {},
     "output_type": "display_data"
    },
    {
     "name": "stderr",
     "output_type": "stream",
     "text": [
      "Partition explainer:  60%|██████    | 6/10 [04:17<02:47, 41.88s/it]"
     ]
    },
    {
     "data": {
      "text/plain": "  0%|          | 0/248 [00:00<?, ?it/s]",
      "application/vnd.jupyter.widget-view+json": {
       "version_major": 2,
       "version_minor": 0,
       "model_id": "a219f42ac2cc4cbd852175444e347cf7"
      }
     },
     "metadata": {},
     "output_type": "display_data"
    },
    {
     "name": "stderr",
     "output_type": "stream",
     "text": [
      "Partition explainer:  70%|███████   | 7/10 [04:50<01:57, 39.00s/it]"
     ]
    },
    {
     "data": {
      "text/plain": "  0%|          | 0/248 [00:00<?, ?it/s]",
      "application/vnd.jupyter.widget-view+json": {
       "version_major": 2,
       "version_minor": 0,
       "model_id": "5f24426019a24c718db8c075ed700f11"
      }
     },
     "metadata": {},
     "output_type": "display_data"
    },
    {
     "name": "stderr",
     "output_type": "stream",
     "text": [
      "Partition explainer:  80%|████████  | 8/10 [05:38<01:23, 41.78s/it]"
     ]
    },
    {
     "data": {
      "text/plain": "  0%|          | 0/248 [00:00<?, ?it/s]",
      "application/vnd.jupyter.widget-view+json": {
       "version_major": 2,
       "version_minor": 0,
       "model_id": "b35a135db8a9412787183f629a971459"
      }
     },
     "metadata": {},
     "output_type": "display_data"
    },
    {
     "name": "stderr",
     "output_type": "stream",
     "text": [
      "Partition explainer:  90%|█████████ | 9/10 [06:38<00:47, 47.45s/it]"
     ]
    },
    {
     "data": {
      "text/plain": "  0%|          | 0/182 [00:00<?, ?it/s]",
      "application/vnd.jupyter.widget-view+json": {
       "version_major": 2,
       "version_minor": 0,
       "model_id": "ae28322e7b824ad2abd5a33a7c045fcb"
      }
     },
     "metadata": {},
     "output_type": "display_data"
    },
    {
     "name": "stderr",
     "output_type": "stream",
     "text": [
      "Partition explainer: 100%|██████████| 10/10 [07:00<00:00, 39.59s/it]"
     ]
    },
    {
     "data": {
      "text/plain": "  0%|          | 0/248 [00:00<?, ?it/s]",
      "application/vnd.jupyter.widget-view+json": {
       "version_major": 2,
       "version_minor": 0,
       "model_id": "e8782c68231549d2bdf5d987ce594a99"
      }
     },
     "metadata": {},
     "output_type": "display_data"
    },
    {
     "name": "stderr",
     "output_type": "stream",
     "text": [
      "Partition explainer: 11it [08:06, 48.63s/it]                        \n"
     ]
    }
   ],
   "source": [
    "explainer = shap.Explainer(f, tokenizer)\n",
    "\n",
    "# explain the model's predictions on IMDB reviews\n",
    "shap_values = explainer(data['Desc'][0:10], fixed_context=1)"
   ],
   "metadata": {
    "collapsed": false,
    "pycharm": {
     "name": "#%%\n"
    }
   }
  },
  {
   "cell_type": "code",
   "execution_count": 12,
   "outputs": [
    {
     "data": {
      "text/plain": "<IPython.core.display.HTML object>",
      "text/html": "\n<br>\n<hr style=\"height: 1px; background-color: #fff; border: none; margin-top: 18px; margin-bottom: 18px; border-top: 1px dashed #ccc;\"\">\n<div align=\"center\" style=\"margin-top: -35px;\"><div style=\"display: inline-block; background: #fff; padding: 5px; color: #999; font-family: monospace\">[0]</div>\n</div>\n            "
     },
     "metadata": {},
     "output_type": "display_data"
    },
    {
     "data": {
      "text/plain": "<IPython.core.display.HTML object>",
      "text/html": "<svg width=\"100%\" height=\"80px\"><line x1=\"0\" y1=\"33\" x2=\"100%\" y2=\"33\" style=\"stroke:rgb(150,150,150);stroke-width:1\" /><line x1=\"43.936005576834525%\" y1=\"33\" x2=\"43.936005576834525%\" y2=\"37\" style=\"stroke:rgb(150,150,150);stroke-width:1\" /><text x=\"43.936005576834525%\" y=\"27\" font-size=\"12px\" fill=\"rgb(120,120,120)\" dominant-baseline=\"bottom\" text-anchor=\"middle\">-1</text><line x1=\"31.032109632900767%\" y1=\"33\" x2=\"31.032109632900767%\" y2=\"37\" style=\"stroke:rgb(150,150,150);stroke-width:1\" /><text x=\"31.032109632900767%\" y=\"27\" font-size=\"12px\" fill=\"rgb(120,120,120)\" dominant-baseline=\"bottom\" text-anchor=\"middle\">-2</text><line x1=\"18.12821368896701%\" y1=\"33\" x2=\"18.12821368896701%\" y2=\"37\" style=\"stroke:rgb(150,150,150);stroke-width:1\" /><text x=\"18.12821368896701%\" y=\"27\" font-size=\"12px\" fill=\"rgb(120,120,120)\" dominant-baseline=\"bottom\" text-anchor=\"middle\">-3</text><line x1=\"56.83990152076829%\" y1=\"33\" x2=\"56.83990152076829%\" y2=\"37\" style=\"stroke:rgb(150,150,150);stroke-width:1\" /><text x=\"56.83990152076829%\" y=\"27\" font-size=\"12px\" fill=\"rgb(120,120,120)\" dominant-baseline=\"bottom\" text-anchor=\"middle\">0</text><line x1=\"69.74379746470204%\" y1=\"33\" x2=\"69.74379746470204%\" y2=\"37\" style=\"stroke:rgb(150,150,150);stroke-width:1\" /><text x=\"69.74379746470204%\" y=\"27\" font-size=\"12px\" fill=\"rgb(120,120,120)\" dominant-baseline=\"bottom\" text-anchor=\"middle\">1</text><line x1=\"82.64769340863579%\" y1=\"33\" x2=\"82.64769340863579%\" y2=\"37\" style=\"stroke:rgb(150,150,150);stroke-width:1\" /><text x=\"82.64769340863579%\" y=\"27\" font-size=\"12px\" fill=\"rgb(120,120,120)\" dominant-baseline=\"bottom\" text-anchor=\"middle\">2</text><line x1=\"45.39617293699824%\" y1=\"33\" x2=\"45.39617293699824%\" y2=\"37\" style=\"stroke:rgb(150,150,150);stroke-width:1\" /><text x=\"45.39617293699824%\" y=\"27\" font-size=\"13px\" style=\"stroke:#ffffff;stroke-width:8px;\" fill=\"rgb(255,255,255)\" dominant-baseline=\"bottom\" text-anchor=\"middle\">-0.886843</text><text x=\"45.39617293699824%\" y=\"27\" font-size=\"12px\" fill=\"rgb(120,120,120)\" dominant-baseline=\"bottom\" text-anchor=\"middle\">-0.886843</text><text x=\"45.39617293699824%\" y=\"10\" font-size=\"12px\" fill=\"rgb(120,120,120)\" dominant-baseline=\"bottom\" text-anchor=\"middle\">base value</text><line x1=\"54.60382693396281%\" y1=\"33\" x2=\"54.60382693396281%\" y2=\"37\" style=\"stroke:rgb(150,150,150);stroke-width:1\" /><text x=\"54.60382693396281%\" y=\"27\" font-size=\"13px\" style=\"stroke:#ffffff;stroke-width:8px;\" font-weight=\"bold\" fill=\"rgb(255,255,255)\" dominant-baseline=\"bottom\" text-anchor=\"middle\">-0.173287</text><text x=\"54.60382693396281%\" y=\"27\" font-size=\"13px\" font-weight=\"bold\" fill=\"rgb(0,0,0)\" dominant-baseline=\"bottom\" text-anchor=\"middle\">-0.173287</text><text x=\"54.60382693396281%\" y=\"10\" font-size=\"12px\" fill=\"rgb(120,120,120)\" dominant-baseline=\"bottom\" text-anchor=\"middle\">f<tspan baseline-shift=\"sub\" font-size=\"8px\"></tspan>(inputs)</text><rect x=\"8.33333332258009%\" width=\"46.27049361138271%\" y=\"40\" height=\"18\" style=\"fill:rgb(255.0, 0.0, 81.08083606031792); stroke-width:0; stroke:rgb(0,0,0)\" /><line x1=\"33.53662503161888%\" x2=\"54.60382693396281%\" y1=\"60\" y2=\"60\" id=\"_fb_ennsqjpuzjwcjtumqbjv_ind_6\" style=\"stroke:rgb(255.0, 0.0, 81.08083606031792);stroke-width:2; opacity: 0\"/><text x=\"44.070225982790845%\" y=\"71\" font-size=\"12px\" id=\"_fs_ennsqjpuzjwcjtumqbjv_ind_6\" fill=\"rgb(255.0, 0.0, 81.08083606031792)\" style=\"opacity: 0\" dominant-baseline=\"middle\" text-anchor=\"middle\">1.633</text><svg x=\"33.53662503161888%\" y=\"40\" height=\"20\" width=\"21.067201902343925%\">  <svg x=\"0\" y=\"0\" width=\"100%\" height=\"100%\">    <text x=\"50%\" y=\"9\" font-size=\"12px\" fill=\"rgb(255,255,255)\" dominant-baseline=\"middle\" text-anchor=\"middle\">fell</text>  </svg></svg><line x1=\"24.643247786369244%\" x2=\"33.53662503161888%\" y1=\"60\" y2=\"60\" id=\"_fb_ennsqjpuzjwcjtumqbjv_ind_0\" style=\"stroke:rgb(255.0, 0.0, 81.08083606031792);stroke-width:2; opacity: 0\"/><text x=\"29.089936408994063%\" y=\"71\" font-size=\"12px\" id=\"_fs_ennsqjpuzjwcjtumqbjv_ind_0\" fill=\"rgb(255.0, 0.0, 81.08083606031792)\" style=\"opacity: 0\" dominant-baseline=\"middle\" text-anchor=\"middle\">0.689</text><svg x=\"24.643247786369244%\" y=\"40\" height=\"20\" width=\"8.893377245249638%\">  <svg x=\"0\" y=\"0\" width=\"100%\" height=\"100%\">    <text x=\"50%\" y=\"9\" font-size=\"12px\" fill=\"rgb(255,255,255)\" dominant-baseline=\"middle\" text-anchor=\"middle\"></text>  </svg></svg><line x1=\"17.17489482397778%\" x2=\"24.643247786369244%\" y1=\"60\" y2=\"60\" id=\"_fb_ennsqjpuzjwcjtumqbjv_ind_13\" style=\"stroke:rgb(255.0, 0.0, 81.08083606031792);stroke-width:2; opacity: 0\"/><text x=\"20.909071305173512%\" y=\"71\" font-size=\"12px\" id=\"_fs_ennsqjpuzjwcjtumqbjv_ind_13\" fill=\"rgb(255.0, 0.0, 81.08083606031792)\" style=\"opacity: 0\" dominant-baseline=\"middle\" text-anchor=\"middle\">0.579</text><svg x=\"17.17489482397778%\" y=\"40\" height=\"20\" width=\"7.468352962391464%\">  <svg x=\"0\" y=\"0\" width=\"100%\" height=\"100%\">    <text x=\"50%\" y=\"9\" font-size=\"12px\" fill=\"rgb(255,255,255)\" dominant-baseline=\"middle\" text-anchor=\"middle\"></text>  </svg></svg><line x1=\"12.187598036197173%\" x2=\"17.17489482397778%\" y1=\"60\" y2=\"60\" id=\"_fb_ennsqjpuzjwcjtumqbjv_ind_9\" style=\"stroke:rgb(255.0, 0.0, 81.08083606031792);stroke-width:2; opacity: 0\"/><text x=\"14.681246430087477%\" y=\"71\" font-size=\"12px\" id=\"_fs_ennsqjpuzjwcjtumqbjv_ind_9\" fill=\"rgb(255.0, 0.0, 81.08083606031792)\" style=\"opacity: 0\" dominant-baseline=\"middle\" text-anchor=\"middle\">0.386</text><svg x=\"12.187598036197173%\" y=\"40\" height=\"20\" width=\"4.987296787780608%\">  <svg x=\"0\" y=\"0\" width=\"100%\" height=\"100%\">    <text x=\"50%\" y=\"9\" font-size=\"12px\" fill=\"rgb(255,255,255)\" dominant-baseline=\"middle\" text-anchor=\"middle\">.</text>  </svg></svg><line x1=\"8.33333332258009%\" x2=\"12.187598036197173%\" y1=\"60\" y2=\"60\" id=\"_fb_ennsqjpuzjwcjtumqbjv_ind_7\" style=\"stroke:rgb(255.0, 0.0, 81.08083606031792);stroke-width:2; opacity: 0\"/><text x=\"10.26046567938863%\" y=\"71\" font-size=\"12px\" id=\"_fs_ennsqjpuzjwcjtumqbjv_ind_7\" fill=\"rgb(255.0, 0.0, 81.08083606031792)\" style=\"opacity: 0\" dominant-baseline=\"middle\" text-anchor=\"middle\">0.299</text><svg x=\"8.33333332258009%\" y=\"40\" height=\"20\" width=\"3.8542647136170824%\">  <svg x=\"0\" y=\"0\" width=\"100%\" height=\"100%\">    <text x=\"50%\" y=\"9\" font-size=\"12px\" fill=\"rgb(255,255,255)\" dominant-baseline=\"middle\" text-anchor=\"middle\">by</text>  </svg></svg><g transform=\"translate(0,0)\">  <svg x=\"33.53662503161888%\" y=\"40\" height=\"18\" overflow=\"visible\" width=\"30\">    <path d=\"M 0 -9 l 6 18 L 0 25\" fill=\"none\" style=\"stroke:rgb(255.0, 0.0, 81.08083606031792);stroke-width:2\" />  </svg></g><g transform=\"translate(2,0)\">  <svg x=\"33.53662503161888%\" y=\"40\" height=\"18\" overflow=\"visible\" width=\"30\">    <path d=\"M 0 -9 l 6 18 L 0 25\" fill=\"none\" style=\"stroke:rgb(255.0, 0.0, 81.08083606031792);stroke-width:2\" />  </svg></g><g transform=\"translate(4,0)\">  <svg x=\"33.53662503161888%\" y=\"40\" height=\"18\" overflow=\"visible\" width=\"30\">    <path d=\"M 0 -9 l 6 18 L 0 25\" fill=\"none\" style=\"stroke:rgb(255.0, 0.0, 81.08083606031792);stroke-width:2\" />  </svg></g><g transform=\"translate(6,0)\">  <svg x=\"33.53662503161888%\" y=\"40\" height=\"18\" overflow=\"visible\" width=\"30\">    <path d=\"M 0 -9 l 6 18 L 0 25\" fill=\"none\" style=\"stroke:rgb(255.0, 0.0, 81.08083606031792);stroke-width:2\" />  </svg></g><g transform=\"translate(-8,0)\">  <svg x=\"33.53662503161888%\" y=\"40\" height=\"18\" overflow=\"visible\" width=\"30\">    <path d=\"M 0 -9 l 6 18 L 0 25\" fill=\"none\" style=\"stroke:rgb(255.0, 0.0, 81.08083606031792);stroke-width:2\" />  </svg></g><g transform=\"translate(-6,0)\">  <svg x=\"33.53662503161888%\" y=\"40\" height=\"18\" overflow=\"visible\" width=\"30\">    <path d=\"M 0 -9 l 6 18 L 0 25\" fill=\"none\" style=\"stroke:rgb(255.0, 0.0, 81.08083606031792);stroke-width:2\" />  </svg></g><g transform=\"translate(-4,0)\">  <svg x=\"33.53662503161888%\" y=\"40\" height=\"18\" overflow=\"visible\" width=\"30\">    <path d=\"M 0 -9 l 6 18 L 0 25\" fill=\"none\" style=\"stroke:rgb(255.0, 0.0, 81.08083606031792);stroke-width:2\" />  </svg></g><g transform=\"translate(-2,0)\">  <svg x=\"33.53662503161888%\" y=\"40\" height=\"18\" overflow=\"visible\" width=\"30\">    <path d=\"M 0 -9 l 6 18 L 0 25\" fill=\"none\" style=\"stroke:rgb(255.0, 0.0, 81.08083606031792);stroke-width:2\" />  </svg></g><g transform=\"translate(0,0)\">  <svg x=\"24.643247786369244%\" y=\"40\" height=\"18\" overflow=\"visible\" width=\"30\">    <path d=\"M 0 -9 l 6 18 L 0 25\" fill=\"none\" style=\"stroke:rgb(255.0, 0.0, 81.08083606031792);stroke-width:2\" />  </svg></g><g transform=\"translate(2,0)\">  <svg x=\"24.643247786369244%\" y=\"40\" height=\"18\" overflow=\"visible\" width=\"30\">    <path d=\"M 0 -9 l 6 18 L 0 25\" fill=\"none\" style=\"stroke:rgb(255.0, 0.0, 81.08083606031792);stroke-width:2\" />  </svg></g><g transform=\"translate(4,0)\">  <svg x=\"24.643247786369244%\" y=\"40\" height=\"18\" overflow=\"visible\" width=\"30\">    <path d=\"M 0 -9 l 6 18 L 0 25\" fill=\"none\" style=\"stroke:rgb(255.0, 0.0, 81.08083606031792);stroke-width:2\" />  </svg></g><g transform=\"translate(6,0)\">  <svg x=\"24.643247786369244%\" y=\"40\" height=\"18\" overflow=\"visible\" width=\"30\">    <path d=\"M 0 -9 l 6 18 L 0 25\" fill=\"none\" style=\"stroke:rgb(255.0, 0.0, 81.08083606031792);stroke-width:2\" />  </svg></g><g transform=\"translate(-8,0)\">  <svg x=\"24.643247786369244%\" y=\"40\" height=\"18\" overflow=\"visible\" width=\"30\">    <path d=\"M 0 -9 l 6 18 L 0 25\" fill=\"none\" style=\"stroke:rgb(255.0, 0.0, 81.08083606031792);stroke-width:2\" />  </svg></g><g transform=\"translate(-6,0)\">  <svg x=\"24.643247786369244%\" y=\"40\" height=\"18\" overflow=\"visible\" width=\"30\">    <path d=\"M 0 -9 l 6 18 L 0 25\" fill=\"none\" style=\"stroke:rgb(255.0, 0.0, 81.08083606031792);stroke-width:2\" />  </svg></g><g transform=\"translate(-4,0)\">  <svg x=\"24.643247786369244%\" y=\"40\" height=\"18\" overflow=\"visible\" width=\"30\">    <path d=\"M 0 -9 l 6 18 L 0 25\" fill=\"none\" style=\"stroke:rgb(255.0, 0.0, 81.08083606031792);stroke-width:2\" />  </svg></g><g transform=\"translate(-2,0)\">  <svg x=\"24.643247786369244%\" y=\"40\" height=\"18\" overflow=\"visible\" width=\"30\">    <path d=\"M 0 -9 l 6 18 L 0 25\" fill=\"none\" style=\"stroke:rgb(255.0, 0.0, 81.08083606031792);stroke-width:2\" />  </svg></g><g transform=\"translate(0,0)\">  <svg x=\"17.17489482397778%\" y=\"40\" height=\"18\" overflow=\"visible\" width=\"30\">    <path d=\"M 0 -9 l 6 18 L 0 25\" fill=\"none\" style=\"stroke:rgb(255.0, 0.0, 81.08083606031792);stroke-width:2\" />  </svg></g><g transform=\"translate(2,0)\">  <svg x=\"17.17489482397778%\" y=\"40\" height=\"18\" overflow=\"visible\" width=\"30\">    <path d=\"M 0 -9 l 6 18 L 0 25\" fill=\"none\" style=\"stroke:rgb(255.0, 0.0, 81.08083606031792);stroke-width:2\" />  </svg></g><g transform=\"translate(4,0)\">  <svg x=\"17.17489482397778%\" y=\"40\" height=\"18\" overflow=\"visible\" width=\"30\">    <path d=\"M 0 -9 l 6 18 L 0 25\" fill=\"none\" style=\"stroke:rgb(255.0, 0.0, 81.08083606031792);stroke-width:2\" />  </svg></g><g transform=\"translate(6,0)\">  <svg x=\"17.17489482397778%\" y=\"40\" height=\"18\" overflow=\"visible\" width=\"30\">    <path d=\"M 0 -9 l 6 18 L 0 25\" fill=\"none\" style=\"stroke:rgb(255.0, 0.0, 81.08083606031792);stroke-width:2\" />  </svg></g><g transform=\"translate(-8,0)\">  <svg x=\"17.17489482397778%\" y=\"40\" height=\"18\" overflow=\"visible\" width=\"30\">    <path d=\"M 0 -9 l 6 18 L 0 25\" fill=\"none\" style=\"stroke:rgb(255.0, 0.0, 81.08083606031792);stroke-width:2\" />  </svg></g><g transform=\"translate(-6,0)\">  <svg x=\"17.17489482397778%\" y=\"40\" height=\"18\" overflow=\"visible\" width=\"30\">    <path d=\"M 0 -9 l 6 18 L 0 25\" fill=\"none\" style=\"stroke:rgb(255.0, 0.0, 81.08083606031792);stroke-width:2\" />  </svg></g><g transform=\"translate(-4,0)\">  <svg x=\"17.17489482397778%\" y=\"40\" height=\"18\" overflow=\"visible\" width=\"30\">    <path d=\"M 0 -9 l 6 18 L 0 25\" fill=\"none\" style=\"stroke:rgb(255.0, 0.0, 81.08083606031792);stroke-width:2\" />  </svg></g><g transform=\"translate(-2,0)\">  <svg x=\"17.17489482397778%\" y=\"40\" height=\"18\" overflow=\"visible\" width=\"30\">    <path d=\"M 0 -9 l 6 18 L 0 25\" fill=\"none\" style=\"stroke:rgb(255.0, 0.0, 81.08083606031792);stroke-width:2\" />  </svg></g><g transform=\"translate(0,0)\">  <svg x=\"12.187598036197173%\" y=\"40\" height=\"18\" overflow=\"visible\" width=\"30\">    <path d=\"M 0 -9 l 6 18 L 0 25\" fill=\"none\" style=\"stroke:rgb(255.0, 0.0, 81.08083606031792);stroke-width:2\" />  </svg></g><g transform=\"translate(2,0)\">  <svg x=\"12.187598036197173%\" y=\"40\" height=\"18\" overflow=\"visible\" width=\"30\">    <path d=\"M 0 -9 l 6 18 L 0 25\" fill=\"none\" style=\"stroke:rgb(255.0, 0.0, 81.08083606031792);stroke-width:2\" />  </svg></g><g transform=\"translate(4,0)\">  <svg x=\"12.187598036197173%\" y=\"40\" height=\"18\" overflow=\"visible\" width=\"30\">    <path d=\"M 0 -9 l 6 18 L 0 25\" fill=\"none\" style=\"stroke:rgb(255.0, 0.0, 81.08083606031792);stroke-width:2\" />  </svg></g><g transform=\"translate(6,0)\">  <svg x=\"12.187598036197173%\" y=\"40\" height=\"18\" overflow=\"visible\" width=\"30\">    <path d=\"M 0 -9 l 6 18 L 0 25\" fill=\"none\" style=\"stroke:rgb(255.0, 0.0, 81.08083606031792);stroke-width:2\" />  </svg></g><g transform=\"translate(-8,0)\">  <svg x=\"12.187598036197173%\" y=\"40\" height=\"18\" overflow=\"visible\" width=\"30\">    <path d=\"M 0 -9 l 6 18 L 0 25\" fill=\"none\" style=\"stroke:rgb(255.0, 0.0, 81.08083606031792);stroke-width:2\" />  </svg></g><g transform=\"translate(-6,0)\">  <svg x=\"12.187598036197173%\" y=\"40\" height=\"18\" overflow=\"visible\" width=\"30\">    <path d=\"M 0 -9 l 6 18 L 0 25\" fill=\"none\" style=\"stroke:rgb(255.0, 0.0, 81.08083606031792);stroke-width:2\" />  </svg></g><g transform=\"translate(-4,0)\">  <svg x=\"12.187598036197173%\" y=\"40\" height=\"18\" overflow=\"visible\" width=\"30\">    <path d=\"M 0 -9 l 6 18 L 0 25\" fill=\"none\" style=\"stroke:rgb(255.0, 0.0, 81.08083606031792);stroke-width:2\" />  </svg></g><g transform=\"translate(-2,0)\">  <svg x=\"12.187598036197173%\" y=\"40\" height=\"18\" overflow=\"visible\" width=\"30\">    <path d=\"M 0 -9 l 6 18 L 0 25\" fill=\"none\" style=\"stroke:rgb(255.0, 0.0, 81.08083606031792);stroke-width:2\" />  </svg></g><rect transform=\"translate(-8,0)\" x=\"54.60382693396281%\" y=\"40\" width=\"8\" height=\"18\" style=\"fill:rgb(255.0, 0.0, 81.08083606031792)\"/><g transform=\"translate(-11.5,0)\">  <svg x=\"8.33333332258009%\" y=\"40\" height=\"18\" overflow=\"visible\" width=\"30\">    <path d=\"M 10 -9 l 6 18 L 10 25 L 0 25 L 0 -9\" fill=\"#ffffff\" style=\"stroke:rgb(255,255,255);stroke-width:2\" />  </svg></g><g transform=\"translate(-1.5,0)\">  <svg x=\"54.60382693396281%\" y=\"40\" height=\"18\" overflow=\"visible\" width=\"30\">    <path d=\"M 0 -9 l 6 18 L 0 25\" fill=\"none\" style=\"stroke:rgb(255, 195, 213);stroke-width:2\" />  </svg></g><rect x=\"33.53662503161888%\" y=\"40\" height=\"20\" width=\"21.067201902343925%\"      onmouseover=\"document.getElementById('_tp_ennsqjpuzjwcjtumqbjv_ind_6').style.textDecoration = 'underline';document.getElementById('_fs_ennsqjpuzjwcjtumqbjv_ind_6').style.opacity = 1;document.getElementById('_fb_ennsqjpuzjwcjtumqbjv_ind_6').style.opacity = 1;\"      onmouseout=\"document.getElementById('_tp_ennsqjpuzjwcjtumqbjv_ind_6').style.textDecoration = 'none';document.getElementById('_fs_ennsqjpuzjwcjtumqbjv_ind_6').style.opacity = 0;document.getElementById('_fb_ennsqjpuzjwcjtumqbjv_ind_6').style.opacity = 0;\" style=\"fill:rgb(0,0,0,0)\" /><g transform=\"translate(-1.5,0)\">  <svg x=\"33.53662503161888%\" y=\"40\" height=\"18\" overflow=\"visible\" width=\"30\">    <path d=\"M 0 -9 l 6 18 L 0 25\" fill=\"none\" style=\"stroke:rgb(255, 195, 213);stroke-width:2\" />  </svg></g><rect x=\"24.643247786369244%\" y=\"40\" height=\"20\" width=\"8.893377245249638%\"      onmouseover=\"document.getElementById('_tp_ennsqjpuzjwcjtumqbjv_ind_0').style.textDecoration = 'underline';document.getElementById('_fs_ennsqjpuzjwcjtumqbjv_ind_0').style.opacity = 1;document.getElementById('_fb_ennsqjpuzjwcjtumqbjv_ind_0').style.opacity = 1;\"      onmouseout=\"document.getElementById('_tp_ennsqjpuzjwcjtumqbjv_ind_0').style.textDecoration = 'none';document.getElementById('_fs_ennsqjpuzjwcjtumqbjv_ind_0').style.opacity = 0;document.getElementById('_fb_ennsqjpuzjwcjtumqbjv_ind_0').style.opacity = 0;\" style=\"fill:rgb(0,0,0,0)\" /><g transform=\"translate(-1.5,0)\">  <svg x=\"24.643247786369244%\" y=\"40\" height=\"18\" overflow=\"visible\" width=\"30\">    <path d=\"M 0 -9 l 6 18 L 0 25\" fill=\"none\" style=\"stroke:rgb(255, 195, 213);stroke-width:2\" />  </svg></g><rect x=\"17.17489482397778%\" y=\"40\" height=\"20\" width=\"7.468352962391464%\"      onmouseover=\"document.getElementById('_tp_ennsqjpuzjwcjtumqbjv_ind_13').style.textDecoration = 'underline';document.getElementById('_fs_ennsqjpuzjwcjtumqbjv_ind_13').style.opacity = 1;document.getElementById('_fb_ennsqjpuzjwcjtumqbjv_ind_13').style.opacity = 1;\"      onmouseout=\"document.getElementById('_tp_ennsqjpuzjwcjtumqbjv_ind_13').style.textDecoration = 'none';document.getElementById('_fs_ennsqjpuzjwcjtumqbjv_ind_13').style.opacity = 0;document.getElementById('_fb_ennsqjpuzjwcjtumqbjv_ind_13').style.opacity = 0;\" style=\"fill:rgb(0,0,0,0)\" /><g transform=\"translate(-1.5,0)\">  <svg x=\"17.17489482397778%\" y=\"40\" height=\"18\" overflow=\"visible\" width=\"30\">    <path d=\"M 0 -9 l 6 18 L 0 25\" fill=\"none\" style=\"stroke:rgb(255, 195, 213);stroke-width:2\" />  </svg></g><rect x=\"12.187598036197173%\" y=\"40\" height=\"20\" width=\"4.987296787780608%\"      onmouseover=\"document.getElementById('_tp_ennsqjpuzjwcjtumqbjv_ind_9').style.textDecoration = 'underline';document.getElementById('_fs_ennsqjpuzjwcjtumqbjv_ind_9').style.opacity = 1;document.getElementById('_fb_ennsqjpuzjwcjtumqbjv_ind_9').style.opacity = 1;\"      onmouseout=\"document.getElementById('_tp_ennsqjpuzjwcjtumqbjv_ind_9').style.textDecoration = 'none';document.getElementById('_fs_ennsqjpuzjwcjtumqbjv_ind_9').style.opacity = 0;document.getElementById('_fb_ennsqjpuzjwcjtumqbjv_ind_9').style.opacity = 0;\" style=\"fill:rgb(0,0,0,0)\" /><rect x=\"8.33333332258009%\" y=\"40\" height=\"20\" width=\"3.8542647136170824%\"      onmouseover=\"document.getElementById('_tp_ennsqjpuzjwcjtumqbjv_ind_7').style.textDecoration = 'underline';document.getElementById('_fs_ennsqjpuzjwcjtumqbjv_ind_7').style.opacity = 1;document.getElementById('_fb_ennsqjpuzjwcjtumqbjv_ind_7').style.opacity = 1;\"      onmouseout=\"document.getElementById('_tp_ennsqjpuzjwcjtumqbjv_ind_7').style.textDecoration = 'none';document.getElementById('_fs_ennsqjpuzjwcjtumqbjv_ind_7').style.opacity = 0;document.getElementById('_fb_ennsqjpuzjwcjtumqbjv_ind_7').style.opacity = 0;\" style=\"fill:rgb(0,0,0,0)\" /><rect x=\"54.60382693396281%\" width=\"37.06283961441815%\" y=\"40\" height=\"18\" style=\"fill:rgb(0.0, 138.56128015770727, 250.76166088685727); stroke-width:0; stroke:rgb(0,0,0)\" /><line x1=\"54.60382693396281%\" x2=\"63.340218253756305%\" y1=\"60\" y2=\"60\" id=\"_fb_ennsqjpuzjwcjtumqbjv_ind_11\" style=\"stroke:rgb(0.0, 138.56128015770727, 250.76166088685727);stroke-width:2; opacity: 0\"/><text x=\"58.972022593859556%\" y=\"71\" font-size=\"12px\" fill=\"rgb(0.0, 138.56128015770727, 250.76166088685727)\" id=\"_fs_ennsqjpuzjwcjtumqbjv_ind_11\" style=\"opacity: 0\" dominant-baseline=\"middle\" text-anchor=\"middle\">-0.677</text><svg x=\"54.60382693396281%\" y=\"40\" height=\"20\" width=\"8.736391319793498%\">  <svg x=\"0\" y=\"0\" width=\"100%\" height=\"100%\">    <text x=\"50%\" y=\"9\" font-size=\"12px\" fill=\"rgb(255,255,255)\" dominant-baseline=\"middle\" text-anchor=\"middle\">percent</text>  </svg></svg><line x1=\"63.340218253756305%\" x2=\"70.72894410799972%\" y1=\"60\" y2=\"60\" id=\"_fb_ennsqjpuzjwcjtumqbjv_ind_1\" style=\"stroke:rgb(0.0, 138.56128015770727, 250.76166088685727);stroke-width:2; opacity: 0\"/><text x=\"67.034581180878%\" y=\"71\" font-size=\"12px\" fill=\"rgb(0.0, 138.56128015770727, 250.76166088685727)\" id=\"_fs_ennsqjpuzjwcjtumqbjv_ind_1\" style=\"opacity: 0\" dominant-baseline=\"middle\" text-anchor=\"middle\">-0.573</text><svg x=\"63.340218253756305%\" y=\"40\" height=\"20\" width=\"7.388725854243418%\">  <svg x=\"0\" y=\"0\" width=\"100%\" height=\"100%\">    <text x=\"50%\" y=\"9\" font-size=\"12px\" fill=\"rgb(255,255,255)\" dominant-baseline=\"middle\" text-anchor=\"middle\">Unit</text>  </svg></svg><line x1=\"70.72894410799972%\" x2=\"77.68509216778375%\" y1=\"60\" y2=\"60\" id=\"_fb_ennsqjpuzjwcjtumqbjv_ind_2\" style=\"stroke:rgb(0.0, 138.56128015770727, 250.76166088685727);stroke-width:2; opacity: 0\"/><text x=\"74.20701813789174%\" y=\"71\" font-size=\"12px\" fill=\"rgb(0.0, 138.56128015770727, 250.76166088685727)\" id=\"_fs_ennsqjpuzjwcjtumqbjv_ind_2\" style=\"opacity: 0\" dominant-baseline=\"middle\" text-anchor=\"middle\">-0.539</text><svg x=\"70.72894410799972%\" y=\"40\" height=\"20\" width=\"6.956148059784027%\">  <svg x=\"0\" y=\"0\" width=\"100%\" height=\"100%\">    <text x=\"50%\" y=\"9\" font-size=\"12px\" fill=\"rgb(255,255,255)\" dominant-baseline=\"middle\" text-anchor=\"middle\">costs</text>  </svg></svg><line x1=\"77.68509216778375%\" x2=\"83.95859318044914%\" y1=\"60\" y2=\"60\" id=\"_fb_ennsqjpuzjwcjtumqbjv_ind_10\" style=\"stroke:rgb(0.0, 138.56128015770727, 250.76166088685727);stroke-width:2; opacity: 0\"/><text x=\"80.82184267411645%\" y=\"71\" font-size=\"12px\" fill=\"rgb(0.0, 138.56128015770727, 250.76166088685727)\" id=\"_fs_ennsqjpuzjwcjtumqbjv_ind_10\" style=\"opacity: 0\" dominant-baseline=\"middle\" text-anchor=\"middle\">-0.486</text><svg x=\"77.68509216778375%\" y=\"40\" height=\"20\" width=\"6.273501012665392%\">  <svg x=\"0\" y=\"0\" width=\"100%\" height=\"100%\">    <text x=\"50%\" y=\"9\" font-size=\"12px\" fill=\"rgb(255,255,255)\" dominant-baseline=\"middle\" text-anchor=\"middle\">4</text>  </svg></svg><line x1=\"83.95859318044914%\" x2=\"86.23015218299768%\" y1=\"60\" y2=\"60\" id=\"_fb_ennsqjpuzjwcjtumqbjv_ind_12\" style=\"stroke:rgb(0.0, 138.56128015770727, 250.76166088685727);stroke-width:2; opacity: 0\"/><text x=\"85.09437268172341%\" y=\"71\" font-size=\"12px\" fill=\"rgb(0.0, 138.56128015770727, 250.76166088685727)\" id=\"_fs_ennsqjpuzjwcjtumqbjv_ind_12\" style=\"opacity: 0\" dominant-baseline=\"middle\" text-anchor=\"middle\">-0.176</text><svg x=\"83.95859318044914%\" y=\"40\" height=\"20\" width=\"2.2715590025485426%\">  <svg x=\"0\" y=\"0\" width=\"100%\" height=\"100%\">    <text x=\"50%\" y=\"9\" font-size=\"12px\" fill=\"rgb(255,255,255)\" dominant-baseline=\"middle\" text-anchor=\"middle\">.</text>  </svg></svg><line x1=\"86.23015218299768%\" x2=\"88.128762637124%\" y1=\"60\" y2=\"60\" id=\"_fb_ennsqjpuzjwcjtumqbjv_ind_5\" style=\"stroke:rgb(0.0, 138.56128015770727, 250.76166088685727);stroke-width:2; opacity: 0\"/><text x=\"87.17945741006085%\" y=\"71\" font-size=\"12px\" fill=\"rgb(0.0, 138.56128015770727, 250.76166088685727)\" id=\"_fs_ennsqjpuzjwcjtumqbjv_ind_5\" style=\"opacity: 0\" dominant-baseline=\"middle\" text-anchor=\"middle\">-0.147</text><svg x=\"86.23015218299768%\" y=\"40\" height=\"20\" width=\"1.8986104541263131%\">  <svg x=\"0\" y=\"0\" width=\"100%\" height=\"100%\">    <text x=\"50%\" y=\"9\" font-size=\"12px\" fill=\"rgb(255,255,255)\" dominant-baseline=\"middle\" text-anchor=\"middle\">operations</text>  </svg></svg><line x1=\"88.128762637124%\" x2=\"89.77108292363515%\" y1=\"60\" y2=\"60\" id=\"_fb_ennsqjpuzjwcjtumqbjv_ind_3\" style=\"stroke:rgb(0.0, 138.56128015770727, 250.76166088685727);stroke-width:2; opacity: 0\"/><text x=\"88.94992278037958%\" y=\"71\" font-size=\"12px\" fill=\"rgb(0.0, 138.56128015770727, 250.76166088685727)\" id=\"_fs_ennsqjpuzjwcjtumqbjv_ind_3\" style=\"opacity: 0\" dominant-baseline=\"middle\" text-anchor=\"middle\">-0.127</text><svg x=\"88.128762637124%\" y=\"40\" height=\"20\" width=\"1.6423202865111506%\">  <svg x=\"0\" y=\"0\" width=\"100%\" height=\"100%\">    <text x=\"50%\" y=\"9\" font-size=\"12px\" fill=\"rgb(255,255,255)\" dominant-baseline=\"middle\" text-anchor=\"middle\">for</text>  </svg></svg><line x1=\"89.77108292363515%\" x2=\"91.13774351931181%\" y1=\"60\" y2=\"60\" id=\"_fb_ennsqjpuzjwcjtumqbjv_ind_8\" style=\"stroke:rgb(0.0, 138.56128015770727, 250.76166088685727);stroke-width:2; opacity: 0\"/><text x=\"90.45441322147349%\" y=\"71\" font-size=\"12px\" fill=\"rgb(0.0, 138.56128015770727, 250.76166088685727)\" id=\"_fs_ennsqjpuzjwcjtumqbjv_ind_8\" style=\"opacity: 0\" dominant-baseline=\"middle\" text-anchor=\"middle\">-0.106</text><svg x=\"89.77108292363515%\" y=\"40\" height=\"20\" width=\"1.366660595676663%\">  <svg x=\"0\" y=\"0\" width=\"100%\" height=\"100%\">    <text x=\"50%\" y=\"9\" font-size=\"12px\" fill=\"rgb(255,255,255)\" dominant-baseline=\"middle\" text-anchor=\"middle\">6</text>  </svg></svg><line x1=\"91.13774351931181%\" x2=\"91.66666654838095%\" y1=\"60\" y2=\"60\" id=\"_fb_ennsqjpuzjwcjtumqbjv_ind_4\" style=\"stroke:rgb(0.0, 138.56128015770727, 250.76166088685727);stroke-width:2; opacity: 0\"/><text x=\"91.40220503384637%\" y=\"71\" font-size=\"12px\" fill=\"rgb(0.0, 138.56128015770727, 250.76166088685727)\" id=\"_fs_ennsqjpuzjwcjtumqbjv_ind_4\" style=\"opacity: 0\" dominant-baseline=\"middle\" text-anchor=\"middle\">-0.041</text><svg x=\"91.13774351931181%\" y=\"40\" height=\"20\" width=\"0.5289230290691336%\">  <svg x=\"0\" y=\"0\" width=\"100%\" height=\"100%\">    <text x=\"50%\" y=\"9\" font-size=\"12px\" fill=\"rgb(255,255,255)\" dominant-baseline=\"middle\" text-anchor=\"middle\">flight</text>  </svg></svg><g transform=\"translate(-8,0)\">  <svg x=\"63.340218253756305%\" y=\"40\" height=\"18\" overflow=\"visible\" width=\"30\">    <path d=\"M 8 -9 l -6 18 L 8 25\" fill=\"none\" style=\"stroke:rgb(0.0, 138.56128015770727, 250.76166088685727);stroke-width:2\" />  </svg></g><g transform=\"translate(-10,0)\">  <svg x=\"63.340218253756305%\" y=\"40\" height=\"18\" overflow=\"visible\" width=\"30\">    <path d=\"M 8 -9 l -6 18 L 8 25\" fill=\"none\" style=\"stroke:rgb(0.0, 138.56128015770727, 250.76166088685727);stroke-width:2\" />  </svg></g><g transform=\"translate(-12,0)\">  <svg x=\"63.340218253756305%\" y=\"40\" height=\"18\" overflow=\"visible\" width=\"30\">    <path d=\"M 8 -9 l -6 18 L 8 25\" fill=\"none\" style=\"stroke:rgb(0.0, 138.56128015770727, 250.76166088685727);stroke-width:2\" />  </svg></g><g transform=\"translate(-14,0)\">  <svg x=\"63.340218253756305%\" y=\"40\" height=\"18\" overflow=\"visible\" width=\"30\">    <path d=\"M 8 -9 l -6 18 L 8 25\" fill=\"none\" style=\"stroke:rgb(0.0, 138.56128015770727, 250.76166088685727);stroke-width:2\" />  </svg></g><g transform=\"translate(2,0)\">  <svg x=\"63.340218253756305%\" y=\"40\" height=\"18\" overflow=\"visible\" width=\"30\">    <path d=\"M 8 -9 l -6 18 L 8 25\" fill=\"none\" style=\"stroke:rgb(0.0, 138.56128015770727, 250.76166088685727);stroke-width:2\" />  </svg></g><g transform=\"translate(0,0)\">  <svg x=\"63.340218253756305%\" y=\"40\" height=\"18\" overflow=\"visible\" width=\"30\">    <path d=\"M 8 -9 l -6 18 L 8 25\" fill=\"none\" style=\"stroke:rgb(0.0, 138.56128015770727, 250.76166088685727);stroke-width:2\" />  </svg></g><g transform=\"translate(-2,0)\">  <svg x=\"63.340218253756305%\" y=\"40\" height=\"18\" overflow=\"visible\" width=\"30\">    <path d=\"M 8 -9 l -6 18 L 8 25\" fill=\"none\" style=\"stroke:rgb(0.0, 138.56128015770727, 250.76166088685727);stroke-width:2\" />  </svg></g><g transform=\"translate(-4,0)\">  <svg x=\"63.340218253756305%\" y=\"40\" height=\"18\" overflow=\"visible\" width=\"30\">    <path d=\"M 8 -9 l -6 18 L 8 25\" fill=\"none\" style=\"stroke:rgb(0.0, 138.56128015770727, 250.76166088685727);stroke-width:2\" />  </svg></g><g transform=\"translate(-8,0)\">  <svg x=\"70.72894410799972%\" y=\"40\" height=\"18\" overflow=\"visible\" width=\"30\">    <path d=\"M 8 -9 l -6 18 L 8 25\" fill=\"none\" style=\"stroke:rgb(0.0, 138.56128015770727, 250.76166088685727);stroke-width:2\" />  </svg></g><g transform=\"translate(-10,0)\">  <svg x=\"70.72894410799972%\" y=\"40\" height=\"18\" overflow=\"visible\" width=\"30\">    <path d=\"M 8 -9 l -6 18 L 8 25\" fill=\"none\" style=\"stroke:rgb(0.0, 138.56128015770727, 250.76166088685727);stroke-width:2\" />  </svg></g><g transform=\"translate(-12,0)\">  <svg x=\"70.72894410799972%\" y=\"40\" height=\"18\" overflow=\"visible\" width=\"30\">    <path d=\"M 8 -9 l -6 18 L 8 25\" fill=\"none\" style=\"stroke:rgb(0.0, 138.56128015770727, 250.76166088685727);stroke-width:2\" />  </svg></g><g transform=\"translate(-14,0)\">  <svg x=\"70.72894410799972%\" y=\"40\" height=\"18\" overflow=\"visible\" width=\"30\">    <path d=\"M 8 -9 l -6 18 L 8 25\" fill=\"none\" style=\"stroke:rgb(0.0, 138.56128015770727, 250.76166088685727);stroke-width:2\" />  </svg></g><g transform=\"translate(2,0)\">  <svg x=\"70.72894410799972%\" y=\"40\" height=\"18\" overflow=\"visible\" width=\"30\">    <path d=\"M 8 -9 l -6 18 L 8 25\" fill=\"none\" style=\"stroke:rgb(0.0, 138.56128015770727, 250.76166088685727);stroke-width:2\" />  </svg></g><g transform=\"translate(0,0)\">  <svg x=\"70.72894410799972%\" y=\"40\" height=\"18\" overflow=\"visible\" width=\"30\">    <path d=\"M 8 -9 l -6 18 L 8 25\" fill=\"none\" style=\"stroke:rgb(0.0, 138.56128015770727, 250.76166088685727);stroke-width:2\" />  </svg></g><g transform=\"translate(-2,0)\">  <svg x=\"70.72894410799972%\" y=\"40\" height=\"18\" overflow=\"visible\" width=\"30\">    <path d=\"M 8 -9 l -6 18 L 8 25\" fill=\"none\" style=\"stroke:rgb(0.0, 138.56128015770727, 250.76166088685727);stroke-width:2\" />  </svg></g><g transform=\"translate(-4,0)\">  <svg x=\"70.72894410799972%\" y=\"40\" height=\"18\" overflow=\"visible\" width=\"30\">    <path d=\"M 8 -9 l -6 18 L 8 25\" fill=\"none\" style=\"stroke:rgb(0.0, 138.56128015770727, 250.76166088685727);stroke-width:2\" />  </svg></g><g transform=\"translate(-8,0)\">  <svg x=\"77.68509216778375%\" y=\"40\" height=\"18\" overflow=\"visible\" width=\"30\">    <path d=\"M 8 -9 l -6 18 L 8 25\" fill=\"none\" style=\"stroke:rgb(0.0, 138.56128015770727, 250.76166088685727);stroke-width:2\" />  </svg></g><g transform=\"translate(-10,0)\">  <svg x=\"77.68509216778375%\" y=\"40\" height=\"18\" overflow=\"visible\" width=\"30\">    <path d=\"M 8 -9 l -6 18 L 8 25\" fill=\"none\" style=\"stroke:rgb(0.0, 138.56128015770727, 250.76166088685727);stroke-width:2\" />  </svg></g><g transform=\"translate(-12,0)\">  <svg x=\"77.68509216778375%\" y=\"40\" height=\"18\" overflow=\"visible\" width=\"30\">    <path d=\"M 8 -9 l -6 18 L 8 25\" fill=\"none\" style=\"stroke:rgb(0.0, 138.56128015770727, 250.76166088685727);stroke-width:2\" />  </svg></g><g transform=\"translate(-14,0)\">  <svg x=\"77.68509216778375%\" y=\"40\" height=\"18\" overflow=\"visible\" width=\"30\">    <path d=\"M 8 -9 l -6 18 L 8 25\" fill=\"none\" style=\"stroke:rgb(0.0, 138.56128015770727, 250.76166088685727);stroke-width:2\" />  </svg></g><g transform=\"translate(2,0)\">  <svg x=\"77.68509216778375%\" y=\"40\" height=\"18\" overflow=\"visible\" width=\"30\">    <path d=\"M 8 -9 l -6 18 L 8 25\" fill=\"none\" style=\"stroke:rgb(0.0, 138.56128015770727, 250.76166088685727);stroke-width:2\" />  </svg></g><g transform=\"translate(0,0)\">  <svg x=\"77.68509216778375%\" y=\"40\" height=\"18\" overflow=\"visible\" width=\"30\">    <path d=\"M 8 -9 l -6 18 L 8 25\" fill=\"none\" style=\"stroke:rgb(0.0, 138.56128015770727, 250.76166088685727);stroke-width:2\" />  </svg></g><g transform=\"translate(-2,0)\">  <svg x=\"77.68509216778375%\" y=\"40\" height=\"18\" overflow=\"visible\" width=\"30\">    <path d=\"M 8 -9 l -6 18 L 8 25\" fill=\"none\" style=\"stroke:rgb(0.0, 138.56128015770727, 250.76166088685727);stroke-width:2\" />  </svg></g><g transform=\"translate(-4,0)\">  <svg x=\"77.68509216778375%\" y=\"40\" height=\"18\" overflow=\"visible\" width=\"30\">    <path d=\"M 8 -9 l -6 18 L 8 25\" fill=\"none\" style=\"stroke:rgb(0.0, 138.56128015770727, 250.76166088685727);stroke-width:2\" />  </svg></g><g transform=\"translate(-8,0)\">  <svg x=\"83.95859318044914%\" y=\"40\" height=\"18\" overflow=\"visible\" width=\"30\">    <path d=\"M 8 -9 l -6 18 L 8 25\" fill=\"none\" style=\"stroke:rgb(0.0, 138.56128015770727, 250.76166088685727);stroke-width:2\" />  </svg></g><g transform=\"translate(-10,0)\">  <svg x=\"83.95859318044914%\" y=\"40\" height=\"18\" overflow=\"visible\" width=\"30\">    <path d=\"M 8 -9 l -6 18 L 8 25\" fill=\"none\" style=\"stroke:rgb(0.0, 138.56128015770727, 250.76166088685727);stroke-width:2\" />  </svg></g><g transform=\"translate(-12,0)\">  <svg x=\"83.95859318044914%\" y=\"40\" height=\"18\" overflow=\"visible\" width=\"30\">    <path d=\"M 8 -9 l -6 18 L 8 25\" fill=\"none\" style=\"stroke:rgb(0.0, 138.56128015770727, 250.76166088685727);stroke-width:2\" />  </svg></g><g transform=\"translate(-14,0)\">  <svg x=\"83.95859318044914%\" y=\"40\" height=\"18\" overflow=\"visible\" width=\"30\">    <path d=\"M 8 -9 l -6 18 L 8 25\" fill=\"none\" style=\"stroke:rgb(0.0, 138.56128015770727, 250.76166088685727);stroke-width:2\" />  </svg></g><g transform=\"translate(2,0)\">  <svg x=\"83.95859318044914%\" y=\"40\" height=\"18\" overflow=\"visible\" width=\"30\">    <path d=\"M 8 -9 l -6 18 L 8 25\" fill=\"none\" style=\"stroke:rgb(0.0, 138.56128015770727, 250.76166088685727);stroke-width:2\" />  </svg></g><g transform=\"translate(0,0)\">  <svg x=\"83.95859318044914%\" y=\"40\" height=\"18\" overflow=\"visible\" width=\"30\">    <path d=\"M 8 -9 l -6 18 L 8 25\" fill=\"none\" style=\"stroke:rgb(0.0, 138.56128015770727, 250.76166088685727);stroke-width:2\" />  </svg></g><g transform=\"translate(-2,0)\">  <svg x=\"83.95859318044914%\" y=\"40\" height=\"18\" overflow=\"visible\" width=\"30\">    <path d=\"M 8 -9 l -6 18 L 8 25\" fill=\"none\" style=\"stroke:rgb(0.0, 138.56128015770727, 250.76166088685727);stroke-width:2\" />  </svg></g><g transform=\"translate(-4,0)\">  <svg x=\"83.95859318044914%\" y=\"40\" height=\"18\" overflow=\"visible\" width=\"30\">    <path d=\"M 8 -9 l -6 18 L 8 25\" fill=\"none\" style=\"stroke:rgb(0.0, 138.56128015770727, 250.76166088685727);stroke-width:2\" />  </svg></g><g transform=\"translate(-8,0)\">  <svg x=\"86.23015218299768%\" y=\"40\" height=\"18\" overflow=\"visible\" width=\"30\">    <path d=\"M 8 -9 l -6 18 L 8 25\" fill=\"none\" style=\"stroke:rgb(0.0, 138.56128015770727, 250.76166088685727);stroke-width:2\" />  </svg></g><g transform=\"translate(-10,0)\">  <svg x=\"86.23015218299768%\" y=\"40\" height=\"18\" overflow=\"visible\" width=\"30\">    <path d=\"M 8 -9 l -6 18 L 8 25\" fill=\"none\" style=\"stroke:rgb(0.0, 138.56128015770727, 250.76166088685727);stroke-width:2\" />  </svg></g><g transform=\"translate(-12,0)\">  <svg x=\"86.23015218299768%\" y=\"40\" height=\"18\" overflow=\"visible\" width=\"30\">    <path d=\"M 8 -9 l -6 18 L 8 25\" fill=\"none\" style=\"stroke:rgb(0.0, 138.56128015770727, 250.76166088685727);stroke-width:2\" />  </svg></g><g transform=\"translate(-14,0)\">  <svg x=\"86.23015218299768%\" y=\"40\" height=\"18\" overflow=\"visible\" width=\"30\">    <path d=\"M 8 -9 l -6 18 L 8 25\" fill=\"none\" style=\"stroke:rgb(0.0, 138.56128015770727, 250.76166088685727);stroke-width:2\" />  </svg></g><g transform=\"translate(2,0)\">  <svg x=\"86.23015218299768%\" y=\"40\" height=\"18\" overflow=\"visible\" width=\"30\">    <path d=\"M 8 -9 l -6 18 L 8 25\" fill=\"none\" style=\"stroke:rgb(0.0, 138.56128015770727, 250.76166088685727);stroke-width:2\" />  </svg></g><g transform=\"translate(0,0)\">  <svg x=\"86.23015218299768%\" y=\"40\" height=\"18\" overflow=\"visible\" width=\"30\">    <path d=\"M 8 -9 l -6 18 L 8 25\" fill=\"none\" style=\"stroke:rgb(0.0, 138.56128015770727, 250.76166088685727);stroke-width:2\" />  </svg></g><g transform=\"translate(-2,0)\">  <svg x=\"86.23015218299768%\" y=\"40\" height=\"18\" overflow=\"visible\" width=\"30\">    <path d=\"M 8 -9 l -6 18 L 8 25\" fill=\"none\" style=\"stroke:rgb(0.0, 138.56128015770727, 250.76166088685727);stroke-width:2\" />  </svg></g><g transform=\"translate(-4,0)\">  <svg x=\"86.23015218299768%\" y=\"40\" height=\"18\" overflow=\"visible\" width=\"30\">    <path d=\"M 8 -9 l -6 18 L 8 25\" fill=\"none\" style=\"stroke:rgb(0.0, 138.56128015770727, 250.76166088685727);stroke-width:2\" />  </svg></g><g transform=\"translate(-8,0)\">  <svg x=\"88.128762637124%\" y=\"40\" height=\"18\" overflow=\"visible\" width=\"30\">    <path d=\"M 8 -9 l -6 18 L 8 25\" fill=\"none\" style=\"stroke:rgb(0.0, 138.56128015770727, 250.76166088685727);stroke-width:2\" />  </svg></g><g transform=\"translate(-10,0)\">  <svg x=\"88.128762637124%\" y=\"40\" height=\"18\" overflow=\"visible\" width=\"30\">    <path d=\"M 8 -9 l -6 18 L 8 25\" fill=\"none\" style=\"stroke:rgb(0.0, 138.56128015770727, 250.76166088685727);stroke-width:2\" />  </svg></g><g transform=\"translate(-12,0)\">  <svg x=\"88.128762637124%\" y=\"40\" height=\"18\" overflow=\"visible\" width=\"30\">    <path d=\"M 8 -9 l -6 18 L 8 25\" fill=\"none\" style=\"stroke:rgb(0.0, 138.56128015770727, 250.76166088685727);stroke-width:2\" />  </svg></g><g transform=\"translate(-14,0)\">  <svg x=\"88.128762637124%\" y=\"40\" height=\"18\" overflow=\"visible\" width=\"30\">    <path d=\"M 8 -9 l -6 18 L 8 25\" fill=\"none\" style=\"stroke:rgb(0.0, 138.56128015770727, 250.76166088685727);stroke-width:2\" />  </svg></g><g transform=\"translate(2,0)\">  <svg x=\"88.128762637124%\" y=\"40\" height=\"18\" overflow=\"visible\" width=\"30\">    <path d=\"M 8 -9 l -6 18 L 8 25\" fill=\"none\" style=\"stroke:rgb(0.0, 138.56128015770727, 250.76166088685727);stroke-width:2\" />  </svg></g><g transform=\"translate(0,0)\">  <svg x=\"88.128762637124%\" y=\"40\" height=\"18\" overflow=\"visible\" width=\"30\">    <path d=\"M 8 -9 l -6 18 L 8 25\" fill=\"none\" style=\"stroke:rgb(0.0, 138.56128015770727, 250.76166088685727);stroke-width:2\" />  </svg></g><g transform=\"translate(-2,0)\">  <svg x=\"88.128762637124%\" y=\"40\" height=\"18\" overflow=\"visible\" width=\"30\">    <path d=\"M 8 -9 l -6 18 L 8 25\" fill=\"none\" style=\"stroke:rgb(0.0, 138.56128015770727, 250.76166088685727);stroke-width:2\" />  </svg></g><g transform=\"translate(-4,0)\">  <svg x=\"88.128762637124%\" y=\"40\" height=\"18\" overflow=\"visible\" width=\"30\">    <path d=\"M 8 -9 l -6 18 L 8 25\" fill=\"none\" style=\"stroke:rgb(0.0, 138.56128015770727, 250.76166088685727);stroke-width:2\" />  </svg></g><g transform=\"translate(-8,0)\">  <svg x=\"89.77108292363515%\" y=\"40\" height=\"18\" overflow=\"visible\" width=\"30\">    <path d=\"M 8 -9 l -6 18 L 8 25\" fill=\"none\" style=\"stroke:rgb(0.0, 138.56128015770727, 250.76166088685727);stroke-width:2\" />  </svg></g><g transform=\"translate(-10,0)\">  <svg x=\"89.77108292363515%\" y=\"40\" height=\"18\" overflow=\"visible\" width=\"30\">    <path d=\"M 8 -9 l -6 18 L 8 25\" fill=\"none\" style=\"stroke:rgb(0.0, 138.56128015770727, 250.76166088685727);stroke-width:2\" />  </svg></g><g transform=\"translate(-12,0)\">  <svg x=\"89.77108292363515%\" y=\"40\" height=\"18\" overflow=\"visible\" width=\"30\">    <path d=\"M 8 -9 l -6 18 L 8 25\" fill=\"none\" style=\"stroke:rgb(0.0, 138.56128015770727, 250.76166088685727);stroke-width:2\" />  </svg></g><g transform=\"translate(-14,0)\">  <svg x=\"89.77108292363515%\" y=\"40\" height=\"18\" overflow=\"visible\" width=\"30\">    <path d=\"M 8 -9 l -6 18 L 8 25\" fill=\"none\" style=\"stroke:rgb(0.0, 138.56128015770727, 250.76166088685727);stroke-width:2\" />  </svg></g><g transform=\"translate(2,0)\">  <svg x=\"89.77108292363515%\" y=\"40\" height=\"18\" overflow=\"visible\" width=\"30\">    <path d=\"M 8 -9 l -6 18 L 8 25\" fill=\"none\" style=\"stroke:rgb(0.0, 138.56128015770727, 250.76166088685727);stroke-width:2\" />  </svg></g><g transform=\"translate(0,0)\">  <svg x=\"89.77108292363515%\" y=\"40\" height=\"18\" overflow=\"visible\" width=\"30\">    <path d=\"M 8 -9 l -6 18 L 8 25\" fill=\"none\" style=\"stroke:rgb(0.0, 138.56128015770727, 250.76166088685727);stroke-width:2\" />  </svg></g><g transform=\"translate(-2,0)\">  <svg x=\"89.77108292363515%\" y=\"40\" height=\"18\" overflow=\"visible\" width=\"30\">    <path d=\"M 8 -9 l -6 18 L 8 25\" fill=\"none\" style=\"stroke:rgb(0.0, 138.56128015770727, 250.76166088685727);stroke-width:2\" />  </svg></g><g transform=\"translate(-4,0)\">  <svg x=\"89.77108292363515%\" y=\"40\" height=\"18\" overflow=\"visible\" width=\"30\">    <path d=\"M 8 -9 l -6 18 L 8 25\" fill=\"none\" style=\"stroke:rgb(0.0, 138.56128015770727, 250.76166088685727);stroke-width:2\" />  </svg></g><g transform=\"translate(-8,0)\">  <svg x=\"91.13774351931181%\" y=\"40\" height=\"18\" overflow=\"visible\" width=\"30\">    <path d=\"M 8 -9 l -6 18 L 8 25\" fill=\"none\" style=\"stroke:rgb(0.0, 138.56128015770727, 250.76166088685727);stroke-width:2\" />  </svg></g><g transform=\"translate(-10,0)\">  <svg x=\"91.13774351931181%\" y=\"40\" height=\"18\" overflow=\"visible\" width=\"30\">    <path d=\"M 8 -9 l -6 18 L 8 25\" fill=\"none\" style=\"stroke:rgb(0.0, 138.56128015770727, 250.76166088685727);stroke-width:2\" />  </svg></g><g transform=\"translate(-12,0)\">  <svg x=\"91.13774351931181%\" y=\"40\" height=\"18\" overflow=\"visible\" width=\"30\">    <path d=\"M 8 -9 l -6 18 L 8 25\" fill=\"none\" style=\"stroke:rgb(0.0, 138.56128015770727, 250.76166088685727);stroke-width:2\" />  </svg></g><g transform=\"translate(-14,0)\">  <svg x=\"91.13774351931181%\" y=\"40\" height=\"18\" overflow=\"visible\" width=\"30\">    <path d=\"M 8 -9 l -6 18 L 8 25\" fill=\"none\" style=\"stroke:rgb(0.0, 138.56128015770727, 250.76166088685727);stroke-width:2\" />  </svg></g><g transform=\"translate(2,0)\">  <svg x=\"91.13774351931181%\" y=\"40\" height=\"18\" overflow=\"visible\" width=\"30\">    <path d=\"M 8 -9 l -6 18 L 8 25\" fill=\"none\" style=\"stroke:rgb(0.0, 138.56128015770727, 250.76166088685727);stroke-width:2\" />  </svg></g><g transform=\"translate(0,0)\">  <svg x=\"91.13774351931181%\" y=\"40\" height=\"18\" overflow=\"visible\" width=\"30\">    <path d=\"M 8 -9 l -6 18 L 8 25\" fill=\"none\" style=\"stroke:rgb(0.0, 138.56128015770727, 250.76166088685727);stroke-width:2\" />  </svg></g><g transform=\"translate(-2,0)\">  <svg x=\"91.13774351931181%\" y=\"40\" height=\"18\" overflow=\"visible\" width=\"30\">    <path d=\"M 8 -9 l -6 18 L 8 25\" fill=\"none\" style=\"stroke:rgb(0.0, 138.56128015770727, 250.76166088685727);stroke-width:2\" />  </svg></g><g transform=\"translate(-4,0)\">  <svg x=\"91.13774351931181%\" y=\"40\" height=\"18\" overflow=\"visible\" width=\"30\">    <path d=\"M 8 -9 l -6 18 L 8 25\" fill=\"none\" style=\"stroke:rgb(0.0, 138.56128015770727, 250.76166088685727);stroke-width:2\" />  </svg></g><rect transform=\"translate(0,0)\" x=\"54.60382693396281%\" y=\"40\" width=\"8\" height=\"18\" style=\"fill:rgb(0.0, 138.56128015770727, 250.76166088685727)\"/><g transform=\"translate(-6.0,0)\">  <svg x=\"91.66666654838095%\" y=\"40\" height=\"18\" overflow=\"visible\" width=\"30\">    <path d=\"M 8 -9 l -6 18 L 8 25 L 20 25 L 20 -9\" fill=\"#ffffff\" style=\"stroke:rgb(255,255,255);stroke-width:2\" />  </svg></g><g transform=\"translate(-6.0,0)\">  <svg x=\"63.340218253756305%\" y=\"40\" height=\"18\" overflow=\"visible\" width=\"30\">    <path d=\"M 8 -9 l -6 18 L 8 25\" fill=\"none\" style=\"stroke:rgb(208, 230, 250);stroke-width:2\" />  </svg></g><rect x=\"54.60382693396281%\" y=\"40\" height=\"20\" width=\"8.736391319793498%\"      onmouseover=\"document.getElementById('_tp_ennsqjpuzjwcjtumqbjv_ind_11').style.textDecoration = 'underline';document.getElementById('_fs_ennsqjpuzjwcjtumqbjv_ind_11').style.opacity = 1;document.getElementById('_fb_ennsqjpuzjwcjtumqbjv_ind_11').style.opacity = 1;\"      onmouseout=\"document.getElementById('_tp_ennsqjpuzjwcjtumqbjv_ind_11').style.textDecoration = 'none';document.getElementById('_fs_ennsqjpuzjwcjtumqbjv_ind_11').style.opacity = 0;document.getElementById('_fb_ennsqjpuzjwcjtumqbjv_ind_11').style.opacity = 0;\" style=\"fill:rgb(0,0,0,0)\" /><g transform=\"translate(-6.0,0)\">  <svg x=\"70.72894410799972%\" y=\"40\" height=\"18\" overflow=\"visible\" width=\"30\">    <path d=\"M 8 -9 l -6 18 L 8 25\" fill=\"none\" style=\"stroke:rgb(208, 230, 250);stroke-width:2\" />  </svg></g><rect x=\"63.340218253756305%\" y=\"40\" height=\"20\" width=\"7.388725854243418%\"      onmouseover=\"document.getElementById('_tp_ennsqjpuzjwcjtumqbjv_ind_1').style.textDecoration = 'underline';document.getElementById('_fs_ennsqjpuzjwcjtumqbjv_ind_1').style.opacity = 1;document.getElementById('_fb_ennsqjpuzjwcjtumqbjv_ind_1').style.opacity = 1;\"      onmouseout=\"document.getElementById('_tp_ennsqjpuzjwcjtumqbjv_ind_1').style.textDecoration = 'none';document.getElementById('_fs_ennsqjpuzjwcjtumqbjv_ind_1').style.opacity = 0;document.getElementById('_fb_ennsqjpuzjwcjtumqbjv_ind_1').style.opacity = 0;\" style=\"fill:rgb(0,0,0,0)\" /><g transform=\"translate(-6.0,0)\">  <svg x=\"77.68509216778375%\" y=\"40\" height=\"18\" overflow=\"visible\" width=\"30\">    <path d=\"M 8 -9 l -6 18 L 8 25\" fill=\"none\" style=\"stroke:rgb(208, 230, 250);stroke-width:2\" />  </svg></g><rect x=\"70.72894410799972%\" y=\"40\" height=\"20\" width=\"6.956148059784027%\"      onmouseover=\"document.getElementById('_tp_ennsqjpuzjwcjtumqbjv_ind_2').style.textDecoration = 'underline';document.getElementById('_fs_ennsqjpuzjwcjtumqbjv_ind_2').style.opacity = 1;document.getElementById('_fb_ennsqjpuzjwcjtumqbjv_ind_2').style.opacity = 1;\"      onmouseout=\"document.getElementById('_tp_ennsqjpuzjwcjtumqbjv_ind_2').style.textDecoration = 'none';document.getElementById('_fs_ennsqjpuzjwcjtumqbjv_ind_2').style.opacity = 0;document.getElementById('_fb_ennsqjpuzjwcjtumqbjv_ind_2').style.opacity = 0;\" style=\"fill:rgb(0,0,0,0)\" /><g transform=\"translate(-6.0,0)\">  <svg x=\"83.95859318044914%\" y=\"40\" height=\"18\" overflow=\"visible\" width=\"30\">    <path d=\"M 8 -9 l -6 18 L 8 25\" fill=\"none\" style=\"stroke:rgb(208, 230, 250);stroke-width:2\" />  </svg></g><rect x=\"77.68509216778375%\" y=\"40\" height=\"20\" width=\"6.273501012665392%\"      onmouseover=\"document.getElementById('_tp_ennsqjpuzjwcjtumqbjv_ind_10').style.textDecoration = 'underline';document.getElementById('_fs_ennsqjpuzjwcjtumqbjv_ind_10').style.opacity = 1;document.getElementById('_fb_ennsqjpuzjwcjtumqbjv_ind_10').style.opacity = 1;\"      onmouseout=\"document.getElementById('_tp_ennsqjpuzjwcjtumqbjv_ind_10').style.textDecoration = 'none';document.getElementById('_fs_ennsqjpuzjwcjtumqbjv_ind_10').style.opacity = 0;document.getElementById('_fb_ennsqjpuzjwcjtumqbjv_ind_10').style.opacity = 0;\" style=\"fill:rgb(0,0,0,0)\" /><g transform=\"translate(-6.0,0)\">  <svg x=\"86.23015218299768%\" y=\"40\" height=\"18\" overflow=\"visible\" width=\"30\">    <path d=\"M 8 -9 l -6 18 L 8 25\" fill=\"none\" style=\"stroke:rgb(208, 230, 250);stroke-width:2\" />  </svg></g><rect x=\"83.95859318044914%\" y=\"40\" height=\"20\" width=\"2.2715590025485426%\"      onmouseover=\"document.getElementById('_tp_ennsqjpuzjwcjtumqbjv_ind_12').style.textDecoration = 'underline';document.getElementById('_fs_ennsqjpuzjwcjtumqbjv_ind_12').style.opacity = 1;document.getElementById('_fb_ennsqjpuzjwcjtumqbjv_ind_12').style.opacity = 1;\"      onmouseout=\"document.getElementById('_tp_ennsqjpuzjwcjtumqbjv_ind_12').style.textDecoration = 'none';document.getElementById('_fs_ennsqjpuzjwcjtumqbjv_ind_12').style.opacity = 0;document.getElementById('_fb_ennsqjpuzjwcjtumqbjv_ind_12').style.opacity = 0;\" style=\"fill:rgb(0,0,0,0)\" /><g transform=\"translate(-6.0,0)\">  <svg x=\"88.128762637124%\" y=\"40\" height=\"18\" overflow=\"visible\" width=\"30\">    <path d=\"M 8 -9 l -6 18 L 8 25\" fill=\"none\" style=\"stroke:rgb(208, 230, 250);stroke-width:2\" />  </svg></g><rect x=\"86.23015218299768%\" y=\"40\" height=\"20\" width=\"1.8986104541263131%\"      onmouseover=\"document.getElementById('_tp_ennsqjpuzjwcjtumqbjv_ind_5').style.textDecoration = 'underline';document.getElementById('_fs_ennsqjpuzjwcjtumqbjv_ind_5').style.opacity = 1;document.getElementById('_fb_ennsqjpuzjwcjtumqbjv_ind_5').style.opacity = 1;\"      onmouseout=\"document.getElementById('_tp_ennsqjpuzjwcjtumqbjv_ind_5').style.textDecoration = 'none';document.getElementById('_fs_ennsqjpuzjwcjtumqbjv_ind_5').style.opacity = 0;document.getElementById('_fb_ennsqjpuzjwcjtumqbjv_ind_5').style.opacity = 0;\" style=\"fill:rgb(0,0,0,0)\" /><g transform=\"translate(-6.0,0)\">  <svg x=\"89.77108292363515%\" y=\"40\" height=\"18\" overflow=\"visible\" width=\"30\">    <path d=\"M 8 -9 l -6 18 L 8 25\" fill=\"none\" style=\"stroke:rgb(208, 230, 250);stroke-width:2\" />  </svg></g><rect x=\"88.128762637124%\" y=\"40\" height=\"20\" width=\"1.6423202865111506%\"      onmouseover=\"document.getElementById('_tp_ennsqjpuzjwcjtumqbjv_ind_3').style.textDecoration = 'underline';document.getElementById('_fs_ennsqjpuzjwcjtumqbjv_ind_3').style.opacity = 1;document.getElementById('_fb_ennsqjpuzjwcjtumqbjv_ind_3').style.opacity = 1;\"      onmouseout=\"document.getElementById('_tp_ennsqjpuzjwcjtumqbjv_ind_3').style.textDecoration = 'none';document.getElementById('_fs_ennsqjpuzjwcjtumqbjv_ind_3').style.opacity = 0;document.getElementById('_fb_ennsqjpuzjwcjtumqbjv_ind_3').style.opacity = 0;\" style=\"fill:rgb(0,0,0,0)\" /><g transform=\"translate(-6.0,0)\">  <svg x=\"91.13774351931181%\" y=\"40\" height=\"18\" overflow=\"visible\" width=\"30\">    <path d=\"M 8 -9 l -6 18 L 8 25\" fill=\"none\" style=\"stroke:rgb(208, 230, 250);stroke-width:2\" />  </svg></g><rect x=\"89.77108292363515%\" y=\"40\" height=\"20\" width=\"1.366660595676663%\"      onmouseover=\"document.getElementById('_tp_ennsqjpuzjwcjtumqbjv_ind_8').style.textDecoration = 'underline';document.getElementById('_fs_ennsqjpuzjwcjtumqbjv_ind_8').style.opacity = 1;document.getElementById('_fb_ennsqjpuzjwcjtumqbjv_ind_8').style.opacity = 1;\"      onmouseout=\"document.getElementById('_tp_ennsqjpuzjwcjtumqbjv_ind_8').style.textDecoration = 'none';document.getElementById('_fs_ennsqjpuzjwcjtumqbjv_ind_8').style.opacity = 0;document.getElementById('_fb_ennsqjpuzjwcjtumqbjv_ind_8').style.opacity = 0;\" style=\"fill:rgb(0,0,0,0)\" /><rect x=\"91.13774351931181%\" y=\"40\" height=\"20\" width=\"0.5289230290691336%\"      onmouseover=\"document.getElementById('_tp_ennsqjpuzjwcjtumqbjv_ind_4').style.textDecoration = 'underline';document.getElementById('_fs_ennsqjpuzjwcjtumqbjv_ind_4').style.opacity = 1;document.getElementById('_fb_ennsqjpuzjwcjtumqbjv_ind_4').style.opacity = 1;\"      onmouseout=\"document.getElementById('_tp_ennsqjpuzjwcjtumqbjv_ind_4').style.textDecoration = 'none';document.getElementById('_fs_ennsqjpuzjwcjtumqbjv_ind_4').style.opacity = 0;document.getElementById('_fb_ennsqjpuzjwcjtumqbjv_ind_4').style.opacity = 0;\" style=\"fill:rgb(0,0,0,0)\" /></svg><div align='center'><div style=\"color: rgb(120,120,120); font-size: 12px; margin-top: -15px;\">inputs</div><div style='display: inline; text-align: center;'\n    ><div style='display: none; color: #999; padding-top: 0px; font-size: 12px;'>0.689</div\n        ><div id='_tp_ennsqjpuzjwcjtumqbjv_ind_0'\n            style='display: inline; background: rgba(255.0, 13.0, 87.0, 0.4245593186769657); border-radius: 3px; padding: 0px'\n            onclick=\"\n            if (this.previousSibling.style.display == 'none') {\n                this.previousSibling.style.display = 'block';\n                this.parentNode.style.display = 'inline-block';\n            } else {\n                this.previousSibling.style.display = 'none';\n                this.parentNode.style.display = 'inline';\n            }\"\n            onmouseover=\"document.getElementById('_fb_ennsqjpuzjwcjtumqbjv_ind_0').style.opacity = 1; document.getElementById('_fs_ennsqjpuzjwcjtumqbjv_ind_0').style.opacity = 1;\"\n            onmouseout=\"document.getElementById('_fb_ennsqjpuzjwcjtumqbjv_ind_0').style.opacity = 0; document.getElementById('_fs_ennsqjpuzjwcjtumqbjv_ind_0').style.opacity = 0;\"\n        ></div></div><div style='display: inline; text-align: center;'\n    ><div style='display: none; color: #999; padding-top: 0px; font-size: 12px;'>-0.573</div\n        ><div id='_tp_ennsqjpuzjwcjtumqbjv_ind_1'\n            style='display: inline; background: rgba(30.0, 136.0, 229.0, 0.34573182808476927); border-radius: 3px; padding: 0px'\n            onclick=\"\n            if (this.previousSibling.style.display == 'none') {\n                this.previousSibling.style.display = 'block';\n                this.parentNode.style.display = 'inline-block';\n            } else {\n                this.previousSibling.style.display = 'none';\n                this.parentNode.style.display = 'inline';\n            }\"\n            onmouseover=\"document.getElementById('_fb_ennsqjpuzjwcjtumqbjv_ind_1').style.opacity = 1; document.getElementById('_fs_ennsqjpuzjwcjtumqbjv_ind_1').style.opacity = 1;\"\n            onmouseout=\"document.getElementById('_fb_ennsqjpuzjwcjtumqbjv_ind_1').style.opacity = 0; document.getElementById('_fs_ennsqjpuzjwcjtumqbjv_ind_1').style.opacity = 0;\"\n        >Unit </div></div><div style='display: inline; text-align: center;'\n    ><div style='display: none; color: #999; padding-top: 0px; font-size: 12px;'>-0.539</div\n        ><div id='_tp_ennsqjpuzjwcjtumqbjv_ind_2'\n            style='display: inline; background: rgba(30.0, 136.0, 229.0, 0.3299663299663299); border-radius: 3px; padding: 0px'\n            onclick=\"\n            if (this.previousSibling.style.display == 'none') {\n                this.previousSibling.style.display = 'block';\n                this.parentNode.style.display = 'inline-block';\n            } else {\n                this.previousSibling.style.display = 'none';\n                this.parentNode.style.display = 'inline';\n            }\"\n            onmouseover=\"document.getElementById('_fb_ennsqjpuzjwcjtumqbjv_ind_2').style.opacity = 1; document.getElementById('_fs_ennsqjpuzjwcjtumqbjv_ind_2').style.opacity = 1;\"\n            onmouseout=\"document.getElementById('_fb_ennsqjpuzjwcjtumqbjv_ind_2').style.opacity = 0; document.getElementById('_fs_ennsqjpuzjwcjtumqbjv_ind_2').style.opacity = 0;\"\n        >costs </div></div><div style='display: inline; text-align: center;'\n    ><div style='display: none; color: #999; padding-top: 0px; font-size: 12px;'>-0.127</div\n        ><div id='_tp_ennsqjpuzjwcjtumqbjv_ind_3'\n            style='display: inline; background: rgba(30.0, 136.0, 229.0, 0.06983561101208147); border-radius: 3px; padding: 0px'\n            onclick=\"\n            if (this.previousSibling.style.display == 'none') {\n                this.previousSibling.style.display = 'block';\n                this.parentNode.style.display = 'inline-block';\n            } else {\n                this.previousSibling.style.display = 'none';\n                this.parentNode.style.display = 'inline';\n            }\"\n            onmouseover=\"document.getElementById('_fb_ennsqjpuzjwcjtumqbjv_ind_3').style.opacity = 1; document.getElementById('_fs_ennsqjpuzjwcjtumqbjv_ind_3').style.opacity = 1;\"\n            onmouseout=\"document.getElementById('_fb_ennsqjpuzjwcjtumqbjv_ind_3').style.opacity = 0; document.getElementById('_fs_ennsqjpuzjwcjtumqbjv_ind_3').style.opacity = 0;\"\n        >for </div></div><div style='display: inline; text-align: center;'\n    ><div style='display: none; color: #999; padding-top: 0px; font-size: 12px;'>-0.041</div\n        ><div id='_tp_ennsqjpuzjwcjtumqbjv_ind_4'\n            style='display: inline; background: rgba(30.0, 136.0, 229.0, 0.022539116656763607); border-radius: 3px; padding: 0px'\n            onclick=\"\n            if (this.previousSibling.style.display == 'none') {\n                this.previousSibling.style.display = 'block';\n                this.parentNode.style.display = 'inline-block';\n            } else {\n                this.previousSibling.style.display = 'none';\n                this.parentNode.style.display = 'inline';\n            }\"\n            onmouseover=\"document.getElementById('_fb_ennsqjpuzjwcjtumqbjv_ind_4').style.opacity = 1; document.getElementById('_fs_ennsqjpuzjwcjtumqbjv_ind_4').style.opacity = 1;\"\n            onmouseout=\"document.getElementById('_fb_ennsqjpuzjwcjtumqbjv_ind_4').style.opacity = 0; document.getElementById('_fs_ennsqjpuzjwcjtumqbjv_ind_4').style.opacity = 0;\"\n        >flight </div></div><div style='display: inline; text-align: center;'\n    ><div style='display: none; color: #999; padding-top: 0px; font-size: 12px;'>-0.147</div\n        ><div id='_tp_ennsqjpuzjwcjtumqbjv_ind_5'\n            style='display: inline; background: rgba(30.0, 136.0, 229.0, 0.08560110913052085); border-radius: 3px; padding: 0px'\n            onclick=\"\n            if (this.previousSibling.style.display == 'none') {\n                this.previousSibling.style.display = 'block';\n                this.parentNode.style.display = 'inline-block';\n            } else {\n                this.previousSibling.style.display = 'none';\n                this.parentNode.style.display = 'inline';\n            }\"\n            onmouseover=\"document.getElementById('_fb_ennsqjpuzjwcjtumqbjv_ind_5').style.opacity = 1; document.getElementById('_fs_ennsqjpuzjwcjtumqbjv_ind_5').style.opacity = 1;\"\n            onmouseout=\"document.getElementById('_fb_ennsqjpuzjwcjtumqbjv_ind_5').style.opacity = 0; document.getElementById('_fs_ennsqjpuzjwcjtumqbjv_ind_5').style.opacity = 0;\"\n        >operations </div></div><div style='display: inline; text-align: center;'\n    ><div style='display: none; color: #999; padding-top: 0px; font-size: 12px;'>1.633</div\n        ><div id='_tp_ennsqjpuzjwcjtumqbjv_ind_6'\n            style='display: inline; background: rgba(255.0, 13.0, 87.0, 1.0); border-radius: 3px; padding: 0px'\n            onclick=\"\n            if (this.previousSibling.style.display == 'none') {\n                this.previousSibling.style.display = 'block';\n                this.parentNode.style.display = 'inline-block';\n            } else {\n                this.previousSibling.style.display = 'none';\n                this.parentNode.style.display = 'inline';\n            }\"\n            onmouseover=\"document.getElementById('_fb_ennsqjpuzjwcjtumqbjv_ind_6').style.opacity = 1; document.getElementById('_fs_ennsqjpuzjwcjtumqbjv_ind_6').style.opacity = 1;\"\n            onmouseout=\"document.getElementById('_fb_ennsqjpuzjwcjtumqbjv_ind_6').style.opacity = 0; document.getElementById('_fs_ennsqjpuzjwcjtumqbjv_ind_6').style.opacity = 0;\"\n        >fell </div></div><div style='display: inline; text-align: center;'\n    ><div style='display: none; color: #999; padding-top: 0px; font-size: 12px;'>0.299</div\n        ><div id='_tp_ennsqjpuzjwcjtumqbjv_ind_7'\n            style='display: inline; background: rgba(255.0, 13.0, 87.0, 0.18019409784115661); border-radius: 3px; padding: 0px'\n            onclick=\"\n            if (this.previousSibling.style.display == 'none') {\n                this.previousSibling.style.display = 'block';\n                this.parentNode.style.display = 'inline-block';\n            } else {\n                this.previousSibling.style.display = 'none';\n                this.parentNode.style.display = 'inline';\n            }\"\n            onmouseover=\"document.getElementById('_fb_ennsqjpuzjwcjtumqbjv_ind_7').style.opacity = 1; document.getElementById('_fs_ennsqjpuzjwcjtumqbjv_ind_7').style.opacity = 1;\"\n            onmouseout=\"document.getElementById('_fb_ennsqjpuzjwcjtumqbjv_ind_7').style.opacity = 0; document.getElementById('_fs_ennsqjpuzjwcjtumqbjv_ind_7').style.opacity = 0;\"\n        >by </div></div><div style='display: inline; text-align: center;'\n    ><div style='display: none; color: #999; padding-top: 0px; font-size: 12px;'>-0.106</div\n        ><div id='_tp_ennsqjpuzjwcjtumqbjv_ind_8'\n            style='display: inline; background: rgba(30.0, 136.0, 229.0, 0.06195286195286191); border-radius: 3px; padding: 0px'\n            onclick=\"\n            if (this.previousSibling.style.display == 'none') {\n                this.previousSibling.style.display = 'block';\n                this.parentNode.style.display = 'inline-block';\n            } else {\n                this.previousSibling.style.display = 'none';\n                this.parentNode.style.display = 'inline';\n            }\"\n            onmouseover=\"document.getElementById('_fb_ennsqjpuzjwcjtumqbjv_ind_8').style.opacity = 1; document.getElementById('_fs_ennsqjpuzjwcjtumqbjv_ind_8').style.opacity = 1;\"\n            onmouseout=\"document.getElementById('_fb_ennsqjpuzjwcjtumqbjv_ind_8').style.opacity = 0; document.getElementById('_fs_ennsqjpuzjwcjtumqbjv_ind_8').style.opacity = 0;\"\n        >6</div></div><div style='display: inline; text-align: center;'\n    ><div style='display: none; color: #999; padding-top: 0px; font-size: 12px;'>0.386</div\n        ><div id='_tp_ennsqjpuzjwcjtumqbjv_ind_9'\n            style='display: inline; background: rgba(255.0, 13.0, 87.0, 0.23537334125569415); border-radius: 3px; padding: 0px'\n            onclick=\"\n            if (this.previousSibling.style.display == 'none') {\n                this.previousSibling.style.display = 'block';\n                this.parentNode.style.display = 'inline-block';\n            } else {\n                this.previousSibling.style.display = 'none';\n                this.parentNode.style.display = 'inline';\n            }\"\n            onmouseover=\"document.getElementById('_fb_ennsqjpuzjwcjtumqbjv_ind_9').style.opacity = 1; document.getElementById('_fs_ennsqjpuzjwcjtumqbjv_ind_9').style.opacity = 1;\"\n            onmouseout=\"document.getElementById('_fb_ennsqjpuzjwcjtumqbjv_ind_9').style.opacity = 0; document.getElementById('_fs_ennsqjpuzjwcjtumqbjv_ind_9').style.opacity = 0;\"\n        >.</div></div><div style='display: inline; text-align: center;'\n    ><div style='display: none; color: #999; padding-top: 0px; font-size: 12px;'>-0.486</div\n        ><div id='_tp_ennsqjpuzjwcjtumqbjv_ind_10'\n            style='display: inline; background: rgba(30.0, 136.0, 229.0, 0.2984353337294513); border-radius: 3px; padding: 0px'\n            onclick=\"\n            if (this.previousSibling.style.display == 'none') {\n                this.previousSibling.style.display = 'block';\n                this.parentNode.style.display = 'inline-block';\n            } else {\n                this.previousSibling.style.display = 'none';\n                this.parentNode.style.display = 'inline';\n            }\"\n            onmouseover=\"document.getElementById('_fb_ennsqjpuzjwcjtumqbjv_ind_10').style.opacity = 1; document.getElementById('_fs_ennsqjpuzjwcjtumqbjv_ind_10').style.opacity = 1;\"\n            onmouseout=\"document.getElementById('_fb_ennsqjpuzjwcjtumqbjv_ind_10').style.opacity = 0; document.getElementById('_fs_ennsqjpuzjwcjtumqbjv_ind_10').style.opacity = 0;\"\n        >4 </div></div><div style='display: inline; text-align: center;'\n    ><div style='display: none; color: #999; padding-top: 0px; font-size: 12px;'>-0.677</div\n        ><div id='_tp_ennsqjpuzjwcjtumqbjv_ind_11'\n            style='display: inline; background: rgba(30.0, 136.0, 229.0, 0.41667656961774613); border-radius: 3px; padding: 0px'\n            onclick=\"\n            if (this.previousSibling.style.display == 'none') {\n                this.previousSibling.style.display = 'block';\n                this.parentNode.style.display = 'inline-block';\n            } else {\n                this.previousSibling.style.display = 'none';\n                this.parentNode.style.display = 'inline';\n            }\"\n            onmouseover=\"document.getElementById('_fb_ennsqjpuzjwcjtumqbjv_ind_11').style.opacity = 1; document.getElementById('_fs_ennsqjpuzjwcjtumqbjv_ind_11').style.opacity = 1;\"\n            onmouseout=\"document.getElementById('_fb_ennsqjpuzjwcjtumqbjv_ind_11').style.opacity = 0; document.getElementById('_fs_ennsqjpuzjwcjtumqbjv_ind_11').style.opacity = 0;\"\n        >percent </div></div><div style='display: inline; text-align: center;'\n    ><div style='display: none; color: #999; padding-top: 0px; font-size: 12px;'>-0.176</div\n        ><div id='_tp_ennsqjpuzjwcjtumqbjv_ind_12'\n            style='display: inline; background: rgba(30.0, 136.0, 229.0, 0.10136660724896014); border-radius: 3px; padding: 0px'\n            onclick=\"\n            if (this.previousSibling.style.display == 'none') {\n                this.previousSibling.style.display = 'block';\n                this.parentNode.style.display = 'inline-block';\n            } else {\n                this.previousSibling.style.display = 'none';\n                this.parentNode.style.display = 'inline';\n            }\"\n            onmouseover=\"document.getElementById('_fb_ennsqjpuzjwcjtumqbjv_ind_12').style.opacity = 1; document.getElementById('_fs_ennsqjpuzjwcjtumqbjv_ind_12').style.opacity = 1;\"\n            onmouseout=\"document.getElementById('_fb_ennsqjpuzjwcjtumqbjv_ind_12').style.opacity = 0; document.getElementById('_fs_ennsqjpuzjwcjtumqbjv_ind_12').style.opacity = 0;\"\n        >.</div></div><div style='display: inline; text-align: center;'\n    ><div style='display: none; color: #999; padding-top: 0px; font-size: 12px;'>0.579</div\n        ><div id='_tp_ennsqjpuzjwcjtumqbjv_ind_13'\n            style='display: inline; background: rgba(255.0, 13.0, 87.0, 0.3536145771439889); border-radius: 3px; padding: 0px'\n            onclick=\"\n            if (this.previousSibling.style.display == 'none') {\n                this.previousSibling.style.display = 'block';\n                this.parentNode.style.display = 'inline-block';\n            } else {\n                this.previousSibling.style.display = 'none';\n                this.parentNode.style.display = 'inline';\n            }\"\n            onmouseover=\"document.getElementById('_fb_ennsqjpuzjwcjtumqbjv_ind_13').style.opacity = 1; document.getElementById('_fs_ennsqjpuzjwcjtumqbjv_ind_13').style.opacity = 1;\"\n            onmouseout=\"document.getElementById('_fb_ennsqjpuzjwcjtumqbjv_ind_13').style.opacity = 0; document.getElementById('_fs_ennsqjpuzjwcjtumqbjv_ind_13').style.opacity = 0;\"\n        ></div></div></div>"
     },
     "metadata": {},
     "output_type": "display_data"
    }
   ],
   "source": [
    "shap.plots.text(shap_values[8:9])"
   ],
   "metadata": {
    "collapsed": false,
    "pycharm": {
     "name": "#%%\n"
    }
   }
  },
  {
   "cell_type": "code",
   "execution_count": null,
   "outputs": [],
   "source": [],
   "metadata": {
    "collapsed": false,
    "pycharm": {
     "name": "#%%\n"
    }
   }
  }
 ],
 "metadata": {
  "kernelspec": {
   "display_name": "Python 3",
   "language": "python",
   "name": "python3"
  },
  "language_info": {
   "codemirror_mode": {
    "name": "ipython",
    "version": 2
   },
   "file_extension": ".py",
   "mimetype": "text/x-python",
   "name": "python",
   "nbconvert_exporter": "python",
   "pygments_lexer": "ipython2",
   "version": "2.7.6"
  }
 },
 "nbformat": 4,
 "nbformat_minor": 0
}